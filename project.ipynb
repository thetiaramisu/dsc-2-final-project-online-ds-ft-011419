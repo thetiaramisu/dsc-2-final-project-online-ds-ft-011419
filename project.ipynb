{
 "cells": [
  {
   "cell_type": "markdown",
   "metadata": {},
   "source": [
    "# Module 2 Final Project Submission\n",
    "\n",
    "**Student name:** Tiara Hlaing <br>\n",
    "**Student pace:** Full time <br>\n",
    "**Project date:** March 2019 <br>\n",
    "**Instructor name:** Joe San Pietro <br>\n",
    "**Blog post:** [Query Functions for SQLite](https://thetiaramisu.wordpress.com/2019/03/13/query-functions-for-sqlite/)"
   ]
  },
  {
   "cell_type": "markdown",
   "metadata": {},
   "source": [
    "***\n",
    "\n",
    "## Background\n",
    "\n",
    "The Northwind Traders database was created by Microsoft in 2000 as representation of a fictitious company.\n",
    "\n",
    "The objective of this project is to use statistical analysis and hypothesis testing on the Northwind database to generate insights and recommendations to the company's executives.\n",
    "\n",
    "***\n",
    "\n",
    "## Importing Libaries and Data"
   ]
  },
  {
   "cell_type": "markdown",
   "metadata": {},
   "source": [
    "### Loading Libraries"
   ]
  },
  {
   "cell_type": "code",
   "execution_count": 1,
   "metadata": {
    "tags": [
     "set"
    ]
   },
   "outputs": [],
   "source": [
    "import pandas as pd\n",
    "import numpy as np \n",
    "\n",
    "import sqlite3 as sql\n",
    "\n",
    "import sqlalchemy\n",
    "from sqlalchemy import create_engine\n",
    "from sqlalchemy import inspect\n",
    "\n",
    "import matplotlib.pyplot as plt\n",
    "%matplotlib inline\n",
    "import seaborn as sns\n",
    "\n",
    "import statsmodels.api as sm\n",
    "from statsmodels.api import formula\n",
    "import statsmodels.formula.api as smf\n",
    "from statsmodels.formula.api import ols\n",
    "\n",
    "import copy\n",
    "\n",
    "import warnings\n",
    "warnings.filterwarnings('ignore')"
   ]
  },
  {
   "cell_type": "markdown",
   "metadata": {},
   "source": [
    "### Loading the Northwind database"
   ]
  },
  {
   "cell_type": "code",
   "execution_count": 2,
   "metadata": {
    "scrolled": true,
    "tags": [
     "set"
    ]
   },
   "outputs": [],
   "source": [
    "engine = create_engine(\"sqlite:///Northwind_small.sqlite\")\n",
    "con = engine.connect()\n",
    "insp = inspect(engine)"
   ]
  },
  {
   "cell_type": "code",
   "execution_count": 3,
   "metadata": {
    "tags": [
     "set"
    ]
   },
   "outputs": [],
   "source": [
    "def query(statement):\n",
    "    return pd.read_sql_query(statement, con)\n",
    "\n",
    "# Function for reading SQL queries into a Pandas dataframe"
   ]
  },
  {
   "cell_type": "code",
   "execution_count": 4,
   "metadata": {
    "tags": [
     "set"
    ]
   },
   "outputs": [],
   "source": [
    "def table(each):\n",
    "    statement = \"SELECT * FROM [\"+each+\"];\"\n",
    "    return query(statement)\n",
    "\n",
    "# Function for making a Pandas dataframe from a whole SQL table"
   ]
  },
  {
   "cell_type": "markdown",
   "metadata": {},
   "source": [
    "### Previewing the Tables and Their Columns"
   ]
  },
  {
   "cell_type": "code",
   "execution_count": 5,
   "metadata": {
    "tags": [
     "set"
    ]
   },
   "outputs": [],
   "source": [
    "tables = insp.get_table_names()\n",
    "\n",
    "tab_cols = []\n",
    "for each in tables:\n",
    "    tab_cols.append(table(each).columns)"
   ]
  },
  {
   "cell_type": "code",
   "execution_count": 6,
   "metadata": {
    "scrolled": true,
    "tags": [
     "set"
    ]
   },
   "outputs": [
    {
     "data": {
      "text/html": [
       "<div>\n",
       "<style scoped>\n",
       "    .dataframe tbody tr th:only-of-type {\n",
       "        vertical-align: middle;\n",
       "    }\n",
       "\n",
       "    .dataframe tbody tr th {\n",
       "        vertical-align: top;\n",
       "    }\n",
       "\n",
       "    .dataframe thead th {\n",
       "        text-align: right;\n",
       "    }\n",
       "</style>\n",
       "<table border=\"1\" class=\"dataframe\">\n",
       "  <thead>\n",
       "    <tr style=\"text-align: right;\">\n",
       "      <th></th>\n",
       "      <th>Category</th>\n",
       "      <th>Customer</th>\n",
       "      <th>CustomerCustomerDemo</th>\n",
       "      <th>CustomerDemographic</th>\n",
       "      <th>Employee</th>\n",
       "      <th>EmployeeTerritory</th>\n",
       "      <th>Order</th>\n",
       "      <th>OrderDetail</th>\n",
       "      <th>Product</th>\n",
       "      <th>Region</th>\n",
       "      <th>Shipper</th>\n",
       "      <th>Supplier</th>\n",
       "      <th>Territory</th>\n",
       "    </tr>\n",
       "  </thead>\n",
       "  <tbody>\n",
       "    <tr>\n",
       "      <th>0</th>\n",
       "      <td>Id</td>\n",
       "      <td>Id</td>\n",
       "      <td>Id</td>\n",
       "      <td>Id</td>\n",
       "      <td>Id</td>\n",
       "      <td>Id</td>\n",
       "      <td>Id</td>\n",
       "      <td>Id</td>\n",
       "      <td>Id</td>\n",
       "      <td>Id</td>\n",
       "      <td>Id</td>\n",
       "      <td>Id</td>\n",
       "      <td>Id</td>\n",
       "    </tr>\n",
       "    <tr>\n",
       "      <th>1</th>\n",
       "      <td>CategoryName</td>\n",
       "      <td>CompanyName</td>\n",
       "      <td>CustomerTypeId</td>\n",
       "      <td>CustomerDesc</td>\n",
       "      <td>LastName</td>\n",
       "      <td>EmployeeId</td>\n",
       "      <td>CustomerId</td>\n",
       "      <td>OrderId</td>\n",
       "      <td>ProductName</td>\n",
       "      <td>RegionDescription</td>\n",
       "      <td>CompanyName</td>\n",
       "      <td>CompanyName</td>\n",
       "      <td>TerritoryDescription</td>\n",
       "    </tr>\n",
       "    <tr>\n",
       "      <th>2</th>\n",
       "      <td>Description</td>\n",
       "      <td>ContactName</td>\n",
       "      <td>--</td>\n",
       "      <td>--</td>\n",
       "      <td>FirstName</td>\n",
       "      <td>TerritoryId</td>\n",
       "      <td>EmployeeId</td>\n",
       "      <td>ProductId</td>\n",
       "      <td>SupplierId</td>\n",
       "      <td>--</td>\n",
       "      <td>Phone</td>\n",
       "      <td>ContactName</td>\n",
       "      <td>RegionId</td>\n",
       "    </tr>\n",
       "    <tr>\n",
       "      <th>3</th>\n",
       "      <td>--</td>\n",
       "      <td>ContactTitle</td>\n",
       "      <td>--</td>\n",
       "      <td>--</td>\n",
       "      <td>Title</td>\n",
       "      <td>--</td>\n",
       "      <td>OrderDate</td>\n",
       "      <td>UnitPrice</td>\n",
       "      <td>CategoryId</td>\n",
       "      <td>--</td>\n",
       "      <td>--</td>\n",
       "      <td>ContactTitle</td>\n",
       "      <td>--</td>\n",
       "    </tr>\n",
       "    <tr>\n",
       "      <th>4</th>\n",
       "      <td>--</td>\n",
       "      <td>Address</td>\n",
       "      <td>--</td>\n",
       "      <td>--</td>\n",
       "      <td>TitleOfCourtesy</td>\n",
       "      <td>--</td>\n",
       "      <td>RequiredDate</td>\n",
       "      <td>Quantity</td>\n",
       "      <td>QuantityPerUnit</td>\n",
       "      <td>--</td>\n",
       "      <td>--</td>\n",
       "      <td>Address</td>\n",
       "      <td>--</td>\n",
       "    </tr>\n",
       "    <tr>\n",
       "      <th>5</th>\n",
       "      <td>--</td>\n",
       "      <td>City</td>\n",
       "      <td>--</td>\n",
       "      <td>--</td>\n",
       "      <td>BirthDate</td>\n",
       "      <td>--</td>\n",
       "      <td>ShippedDate</td>\n",
       "      <td>Discount</td>\n",
       "      <td>UnitPrice</td>\n",
       "      <td>--</td>\n",
       "      <td>--</td>\n",
       "      <td>City</td>\n",
       "      <td>--</td>\n",
       "    </tr>\n",
       "    <tr>\n",
       "      <th>6</th>\n",
       "      <td>--</td>\n",
       "      <td>Region</td>\n",
       "      <td>--</td>\n",
       "      <td>--</td>\n",
       "      <td>HireDate</td>\n",
       "      <td>--</td>\n",
       "      <td>ShipVia</td>\n",
       "      <td>--</td>\n",
       "      <td>UnitsInStock</td>\n",
       "      <td>--</td>\n",
       "      <td>--</td>\n",
       "      <td>Region</td>\n",
       "      <td>--</td>\n",
       "    </tr>\n",
       "    <tr>\n",
       "      <th>7</th>\n",
       "      <td>--</td>\n",
       "      <td>PostalCode</td>\n",
       "      <td>--</td>\n",
       "      <td>--</td>\n",
       "      <td>Address</td>\n",
       "      <td>--</td>\n",
       "      <td>Freight</td>\n",
       "      <td>--</td>\n",
       "      <td>UnitsOnOrder</td>\n",
       "      <td>--</td>\n",
       "      <td>--</td>\n",
       "      <td>PostalCode</td>\n",
       "      <td>--</td>\n",
       "    </tr>\n",
       "    <tr>\n",
       "      <th>8</th>\n",
       "      <td>--</td>\n",
       "      <td>Country</td>\n",
       "      <td>--</td>\n",
       "      <td>--</td>\n",
       "      <td>City</td>\n",
       "      <td>--</td>\n",
       "      <td>ShipName</td>\n",
       "      <td>--</td>\n",
       "      <td>ReorderLevel</td>\n",
       "      <td>--</td>\n",
       "      <td>--</td>\n",
       "      <td>Country</td>\n",
       "      <td>--</td>\n",
       "    </tr>\n",
       "    <tr>\n",
       "      <th>9</th>\n",
       "      <td>--</td>\n",
       "      <td>Phone</td>\n",
       "      <td>--</td>\n",
       "      <td>--</td>\n",
       "      <td>Region</td>\n",
       "      <td>--</td>\n",
       "      <td>ShipAddress</td>\n",
       "      <td>--</td>\n",
       "      <td>Discontinued</td>\n",
       "      <td>--</td>\n",
       "      <td>--</td>\n",
       "      <td>Phone</td>\n",
       "      <td>--</td>\n",
       "    </tr>\n",
       "    <tr>\n",
       "      <th>10</th>\n",
       "      <td>--</td>\n",
       "      <td>Fax</td>\n",
       "      <td>--</td>\n",
       "      <td>--</td>\n",
       "      <td>PostalCode</td>\n",
       "      <td>--</td>\n",
       "      <td>ShipCity</td>\n",
       "      <td>--</td>\n",
       "      <td>--</td>\n",
       "      <td>--</td>\n",
       "      <td>--</td>\n",
       "      <td>Fax</td>\n",
       "      <td>--</td>\n",
       "    </tr>\n",
       "    <tr>\n",
       "      <th>11</th>\n",
       "      <td>--</td>\n",
       "      <td>--</td>\n",
       "      <td>--</td>\n",
       "      <td>--</td>\n",
       "      <td>Country</td>\n",
       "      <td>--</td>\n",
       "      <td>ShipRegion</td>\n",
       "      <td>--</td>\n",
       "      <td>--</td>\n",
       "      <td>--</td>\n",
       "      <td>--</td>\n",
       "      <td>HomePage</td>\n",
       "      <td>--</td>\n",
       "    </tr>\n",
       "    <tr>\n",
       "      <th>12</th>\n",
       "      <td>--</td>\n",
       "      <td>--</td>\n",
       "      <td>--</td>\n",
       "      <td>--</td>\n",
       "      <td>HomePhone</td>\n",
       "      <td>--</td>\n",
       "      <td>ShipPostalCode</td>\n",
       "      <td>--</td>\n",
       "      <td>--</td>\n",
       "      <td>--</td>\n",
       "      <td>--</td>\n",
       "      <td>--</td>\n",
       "      <td>--</td>\n",
       "    </tr>\n",
       "    <tr>\n",
       "      <th>13</th>\n",
       "      <td>--</td>\n",
       "      <td>--</td>\n",
       "      <td>--</td>\n",
       "      <td>--</td>\n",
       "      <td>Extension</td>\n",
       "      <td>--</td>\n",
       "      <td>ShipCountry</td>\n",
       "      <td>--</td>\n",
       "      <td>--</td>\n",
       "      <td>--</td>\n",
       "      <td>--</td>\n",
       "      <td>--</td>\n",
       "      <td>--</td>\n",
       "    </tr>\n",
       "    <tr>\n",
       "      <th>14</th>\n",
       "      <td>--</td>\n",
       "      <td>--</td>\n",
       "      <td>--</td>\n",
       "      <td>--</td>\n",
       "      <td>Photo</td>\n",
       "      <td>--</td>\n",
       "      <td>--</td>\n",
       "      <td>--</td>\n",
       "      <td>--</td>\n",
       "      <td>--</td>\n",
       "      <td>--</td>\n",
       "      <td>--</td>\n",
       "      <td>--</td>\n",
       "    </tr>\n",
       "    <tr>\n",
       "      <th>15</th>\n",
       "      <td>--</td>\n",
       "      <td>--</td>\n",
       "      <td>--</td>\n",
       "      <td>--</td>\n",
       "      <td>Notes</td>\n",
       "      <td>--</td>\n",
       "      <td>--</td>\n",
       "      <td>--</td>\n",
       "      <td>--</td>\n",
       "      <td>--</td>\n",
       "      <td>--</td>\n",
       "      <td>--</td>\n",
       "      <td>--</td>\n",
       "    </tr>\n",
       "    <tr>\n",
       "      <th>16</th>\n",
       "      <td>--</td>\n",
       "      <td>--</td>\n",
       "      <td>--</td>\n",
       "      <td>--</td>\n",
       "      <td>ReportsTo</td>\n",
       "      <td>--</td>\n",
       "      <td>--</td>\n",
       "      <td>--</td>\n",
       "      <td>--</td>\n",
       "      <td>--</td>\n",
       "      <td>--</td>\n",
       "      <td>--</td>\n",
       "      <td>--</td>\n",
       "    </tr>\n",
       "    <tr>\n",
       "      <th>17</th>\n",
       "      <td>--</td>\n",
       "      <td>--</td>\n",
       "      <td>--</td>\n",
       "      <td>--</td>\n",
       "      <td>PhotoPath</td>\n",
       "      <td>--</td>\n",
       "      <td>--</td>\n",
       "      <td>--</td>\n",
       "      <td>--</td>\n",
       "      <td>--</td>\n",
       "      <td>--</td>\n",
       "      <td>--</td>\n",
       "      <td>--</td>\n",
       "    </tr>\n",
       "  </tbody>\n",
       "</table>\n",
       "</div>"
      ],
      "text/plain": [
       "        Category      Customer CustomerCustomerDemo CustomerDemographic  \\\n",
       "0             Id            Id                   Id                  Id   \n",
       "1   CategoryName   CompanyName       CustomerTypeId        CustomerDesc   \n",
       "2    Description   ContactName                   --                  --   \n",
       "3             --  ContactTitle                   --                  --   \n",
       "4             --       Address                   --                  --   \n",
       "5             --          City                   --                  --   \n",
       "6             --        Region                   --                  --   \n",
       "7             --    PostalCode                   --                  --   \n",
       "8             --       Country                   --                  --   \n",
       "9             --         Phone                   --                  --   \n",
       "10            --           Fax                   --                  --   \n",
       "11            --            --                   --                  --   \n",
       "12            --            --                   --                  --   \n",
       "13            --            --                   --                  --   \n",
       "14            --            --                   --                  --   \n",
       "15            --            --                   --                  --   \n",
       "16            --            --                   --                  --   \n",
       "17            --            --                   --                  --   \n",
       "\n",
       "           Employee EmployeeTerritory           Order OrderDetail  \\\n",
       "0                Id                Id              Id          Id   \n",
       "1          LastName        EmployeeId      CustomerId     OrderId   \n",
       "2         FirstName       TerritoryId      EmployeeId   ProductId   \n",
       "3             Title                --       OrderDate   UnitPrice   \n",
       "4   TitleOfCourtesy                --    RequiredDate    Quantity   \n",
       "5         BirthDate                --     ShippedDate    Discount   \n",
       "6          HireDate                --         ShipVia          --   \n",
       "7           Address                --         Freight          --   \n",
       "8              City                --        ShipName          --   \n",
       "9            Region                --     ShipAddress          --   \n",
       "10       PostalCode                --        ShipCity          --   \n",
       "11          Country                --      ShipRegion          --   \n",
       "12        HomePhone                --  ShipPostalCode          --   \n",
       "13        Extension                --     ShipCountry          --   \n",
       "14            Photo                --              --          --   \n",
       "15            Notes                --              --          --   \n",
       "16        ReportsTo                --              --          --   \n",
       "17        PhotoPath                --              --          --   \n",
       "\n",
       "            Product             Region      Shipper      Supplier  \\\n",
       "0                Id                 Id           Id            Id   \n",
       "1       ProductName  RegionDescription  CompanyName   CompanyName   \n",
       "2        SupplierId                 --        Phone   ContactName   \n",
       "3        CategoryId                 --           --  ContactTitle   \n",
       "4   QuantityPerUnit                 --           --       Address   \n",
       "5         UnitPrice                 --           --          City   \n",
       "6      UnitsInStock                 --           --        Region   \n",
       "7      UnitsOnOrder                 --           --    PostalCode   \n",
       "8      ReorderLevel                 --           --       Country   \n",
       "9      Discontinued                 --           --         Phone   \n",
       "10               --                 --           --           Fax   \n",
       "11               --                 --           --      HomePage   \n",
       "12               --                 --           --            --   \n",
       "13               --                 --           --            --   \n",
       "14               --                 --           --            --   \n",
       "15               --                 --           --            --   \n",
       "16               --                 --           --            --   \n",
       "17               --                 --           --            --   \n",
       "\n",
       "               Territory  \n",
       "0                     Id  \n",
       "1   TerritoryDescription  \n",
       "2               RegionId  \n",
       "3                     --  \n",
       "4                     --  \n",
       "5                     --  \n",
       "6                     --  \n",
       "7                     --  \n",
       "8                     --  \n",
       "9                     --  \n",
       "10                    --  \n",
       "11                    --  \n",
       "12                    --  \n",
       "13                    --  \n",
       "14                    --  \n",
       "15                    --  \n",
       "16                    --  \n",
       "17                    --  "
      ]
     },
     "execution_count": 6,
     "metadata": {},
     "output_type": "execute_result"
    }
   ],
   "source": [
    "all_cols = pd.DataFrame(tab_cols)\n",
    "all_cols = all_cols.T\n",
    "all_cols.columns = tables\n",
    "all_cols = all_cols.fillna(\"--\")\n",
    "all_cols"
   ]
  },
  {
   "cell_type": "code",
   "execution_count": 7,
   "metadata": {
    "tags": [
     "set"
    ]
   },
   "outputs": [],
   "source": [
    "# Declaring a pandas dataframe variable for each table\n",
    "\n",
    "categories = table(\"Category\")\n",
    "customers = table(\"Customer\")\n",
    "cust_custdemos = table(\"CustomerCustomerDemo\")\n",
    "demographics = table(\"CustomerDemographic\")\n",
    "employees = table(\"Employee\")\n",
    "emp_territories = table(\"EmployeeTerritory\")\n",
    "orders = table(\"Order\")\n",
    "order_dets = table(\"OrderDetail\")\n",
    "products = table(\"Product\")\n",
    "regions = table(\"Region\")\n",
    "shippers = table(\"Shipper\")\n",
    "suppliers = table(\"Supplier\")\n",
    "territories = table(\"Territory\")"
   ]
  },
  {
   "cell_type": "markdown",
   "metadata": {},
   "source": [
    "***\n",
    "\n",
    "## Analysis Questions\n",
    "\n",
    "As I explore the database, I will address the following questions:\n",
    "* **Question 1:** Do discounts impact order volume?\n",
    "* **Question 2:** Do discounts increase revenue?\n",
    "* **Question 3:** Does customer location impact revenue?\n",
    "* **Question 4:** Is employee age related to productivity?"
   ]
  },
  {
   "cell_type": "code",
   "execution_count": 8,
   "metadata": {
    "tags": [
     "set"
    ]
   },
   "outputs": [],
   "source": [
    "# Function to test the Effect Size as Cohen's D\n",
    "\n",
    "def Cohen_d(group1, group2):\n",
    "    diff = group1.mean() - group2.mean()\n",
    "    n1, n2 = len(group1), len(group2)\n",
    "    var1 = group1.var()\n",
    "    var2 = group2.var()\n",
    "    # Calculate the pooled threshold as shown earlier\n",
    "    pooled_var = (n1 * var1 + n2 * var2) / (n1 + n2)\n",
    "    # Calculate Cohen's d statistic\n",
    "    d = diff / np.sqrt(pooled_var)\n",
    "    \n",
    "    return print(f\"First average = {round(float(group1.mean()),2)}\\nSecond average = {round(float(group2.mean()),2)}\\nDifference in means = {round(float(diff),2)}\\nCohen's d = {round(float(d),2)}\")"
   ]
  },
  {
   "cell_type": "markdown",
   "metadata": {},
   "source": [
    "***\n",
    "\n",
    "## Question 1: Do discounts impact order volume?\n",
    "\n",
    "#### Do discounts have a statistically significant effect on the number of products customers order? If so, at what level(s) of discount?\n",
    "\n",
    "As the preview below shows, the Primary ID for the Order Details table is defined as each product in an order. Therefore, to assess the effect of discounts on the order quantity, I will break this question into two hypotheses. One will focus on the order volume for each unique product, and the other will focus on the total order volume for each unique order."
   ]
  },
  {
   "cell_type": "code",
   "execution_count": 9,
   "metadata": {
    "scrolled": true,
    "tags": [
     "set"
    ]
   },
   "outputs": [
    {
     "data": {
      "text/html": [
       "<div>\n",
       "<style scoped>\n",
       "    .dataframe tbody tr th:only-of-type {\n",
       "        vertical-align: middle;\n",
       "    }\n",
       "\n",
       "    .dataframe tbody tr th {\n",
       "        vertical-align: top;\n",
       "    }\n",
       "\n",
       "    .dataframe thead th {\n",
       "        text-align: right;\n",
       "    }\n",
       "</style>\n",
       "<table border=\"1\" class=\"dataframe\">\n",
       "  <thead>\n",
       "    <tr style=\"text-align: right;\">\n",
       "      <th></th>\n",
       "      <th>Id</th>\n",
       "      <th>OrderId</th>\n",
       "      <th>ProductId</th>\n",
       "      <th>UnitPrice</th>\n",
       "      <th>Quantity</th>\n",
       "      <th>Discount</th>\n",
       "    </tr>\n",
       "  </thead>\n",
       "  <tbody>\n",
       "    <tr>\n",
       "      <th>0</th>\n",
       "      <td>10248/11</td>\n",
       "      <td>10248</td>\n",
       "      <td>11</td>\n",
       "      <td>14.0</td>\n",
       "      <td>12</td>\n",
       "      <td>0.0</td>\n",
       "    </tr>\n",
       "    <tr>\n",
       "      <th>1</th>\n",
       "      <td>10248/42</td>\n",
       "      <td>10248</td>\n",
       "      <td>42</td>\n",
       "      <td>9.8</td>\n",
       "      <td>10</td>\n",
       "      <td>0.0</td>\n",
       "    </tr>\n",
       "    <tr>\n",
       "      <th>2</th>\n",
       "      <td>10248/72</td>\n",
       "      <td>10248</td>\n",
       "      <td>72</td>\n",
       "      <td>34.8</td>\n",
       "      <td>5</td>\n",
       "      <td>0.0</td>\n",
       "    </tr>\n",
       "    <tr>\n",
       "      <th>3</th>\n",
       "      <td>10249/14</td>\n",
       "      <td>10249</td>\n",
       "      <td>14</td>\n",
       "      <td>18.6</td>\n",
       "      <td>9</td>\n",
       "      <td>0.0</td>\n",
       "    </tr>\n",
       "    <tr>\n",
       "      <th>4</th>\n",
       "      <td>10249/51</td>\n",
       "      <td>10249</td>\n",
       "      <td>51</td>\n",
       "      <td>42.4</td>\n",
       "      <td>40</td>\n",
       "      <td>0.0</td>\n",
       "    </tr>\n",
       "  </tbody>\n",
       "</table>\n",
       "</div>"
      ],
      "text/plain": [
       "         Id  OrderId  ProductId  UnitPrice  Quantity  Discount\n",
       "0  10248/11    10248         11       14.0        12       0.0\n",
       "1  10248/42    10248         42        9.8        10       0.0\n",
       "2  10248/72    10248         72       34.8         5       0.0\n",
       "3  10249/14    10249         14       18.6         9       0.0\n",
       "4  10249/51    10249         51       42.4        40       0.0"
      ]
     },
     "execution_count": 9,
     "metadata": {},
     "output_type": "execute_result"
    }
   ],
   "source": [
    "order_dets.head()"
   ]
  },
  {
   "cell_type": "markdown",
   "metadata": {},
   "source": [
    "### Difference in order quantities for each product\n",
    "\n",
    "**H<sub>0</sub>:** The average quantity ordered of each product is the same, whether that product is full priced or discounted.\n",
    "\n",
    "**H<sub>a</sub>:**  There is a significant different in the average quantity ordered of each product, when that product is full priced as opposed to discounted.\n",
    "\n",
    "This will be a two-tailed t-test, as the question asks whether discounting a product results in a difference in the average quantity that customers generally order for that product."
   ]
  },
  {
   "cell_type": "code",
   "execution_count": 10,
   "metadata": {
    "tags": [
     "set"
    ]
   },
   "outputs": [
    {
     "data": {
      "text/plain": [
       "array([ 1,  2,  3,  4,  5,  6,  7,  8,  9, 10, 11, 12, 13, 14, 15, 16, 17,\n",
       "       18, 19, 20, 21, 22, 23, 24, 25, 26, 27, 28, 29, 30, 31, 32, 33, 34,\n",
       "       35, 36, 37, 38, 39, 40, 41, 42, 43, 44, 45, 46, 47, 48, 49, 50, 51,\n",
       "       52, 53, 54, 55, 56, 57, 58, 59, 60, 61, 62, 63, 64, 65, 66, 67, 68,\n",
       "       69, 70, 71, 72, 73, 74, 75, 76, 77])"
      ]
     },
     "execution_count": 10,
     "metadata": {},
     "output_type": "execute_result"
    }
   ],
   "source": [
    "# Identifying the products\n",
    "\n",
    "np.sort(order_dets.ProductId.unique())"
   ]
  },
  {
   "cell_type": "code",
   "execution_count": 11,
   "metadata": {
    "tags": [
     "set"
    ]
   },
   "outputs": [
    {
     "data": {
      "text/html": [
       "<div>\n",
       "<style scoped>\n",
       "    .dataframe tbody tr th:only-of-type {\n",
       "        vertical-align: middle;\n",
       "    }\n",
       "\n",
       "    .dataframe tbody tr th {\n",
       "        vertical-align: top;\n",
       "    }\n",
       "\n",
       "    .dataframe thead th {\n",
       "        text-align: right;\n",
       "    }\n",
       "</style>\n",
       "<table border=\"1\" class=\"dataframe\">\n",
       "  <thead>\n",
       "    <tr style=\"text-align: right;\">\n",
       "      <th></th>\n",
       "      <th>ProductId</th>\n",
       "      <th>AvgDiscQuantity</th>\n",
       "      <th>AvgNonDiscQuantity</th>\n",
       "    </tr>\n",
       "  </thead>\n",
       "  <tbody>\n",
       "    <tr>\n",
       "      <th>0</th>\n",
       "      <td>1</td>\n",
       "      <td>27.3125</td>\n",
       "      <td>17.772727</td>\n",
       "    </tr>\n",
       "    <tr>\n",
       "      <th>1</th>\n",
       "      <td>2</td>\n",
       "      <td>25.9600</td>\n",
       "      <td>21.473684</td>\n",
       "    </tr>\n",
       "    <tr>\n",
       "      <th>2</th>\n",
       "      <td>3</td>\n",
       "      <td>20.0000</td>\n",
       "      <td>28.800000</td>\n",
       "    </tr>\n",
       "    <tr>\n",
       "      <th>3</th>\n",
       "      <td>4</td>\n",
       "      <td>28.1000</td>\n",
       "      <td>17.200000</td>\n",
       "    </tr>\n",
       "    <tr>\n",
       "      <th>4</th>\n",
       "      <td>5</td>\n",
       "      <td>30.5000</td>\n",
       "      <td>29.333333</td>\n",
       "    </tr>\n",
       "  </tbody>\n",
       "</table>\n",
       "</div>"
      ],
      "text/plain": [
       "   ProductId  AvgDiscQuantity  AvgNonDiscQuantity\n",
       "0          1          27.3125           17.772727\n",
       "1          2          25.9600           21.473684\n",
       "2          3          20.0000           28.800000\n",
       "3          4          28.1000           17.200000\n",
       "4          5          30.5000           29.333333"
      ]
     },
     "execution_count": 11,
     "metadata": {},
     "output_type": "execute_result"
    }
   ],
   "source": [
    "# Previewing the average quantity of each product ordered, when discounted vs. full-price\n",
    "\n",
    "DiscProdAvgQuants = query(\"SELECT ProductId, AVG(Quantity) as AvgDiscQuantity FROM OrderDetail WHERE Discount != 0 GROUP BY ProductId\")\n",
    "NonDiscProdAvgQuants = query(\"SELECT ProductId, AVG(Quantity) as AvgNonDiscQuantity FROM OrderDetail WHERE Discount = 0 GROUP BY ProductId\")\n",
    "\n",
    "ProdQuants = DiscProdAvgQuants.join(NonDiscProdAvgQuants.set_index('ProductId'), on='ProductId')\n",
    "ProdQuants.head()"
   ]
  },
  {
   "cell_type": "code",
   "execution_count": 12,
   "metadata": {
    "tags": [
     "set"
    ]
   },
   "outputs": [
    {
     "data": {
      "image/png": "[encoded data removed]",
      "text/plain": [
       "<Figure size 576x360 with 1 Axes>"
      ]
     },
     "metadata": {
      "needs_background": "light"
     },
     "output_type": "display_data"
    }
   ],
   "source": [
    "# Visualizing the difference in quantity ordered of individual products, when discounted vs. full-price\n",
    "\n",
    "plt.figure(figsize=(8,5))\n",
    "plt.hist(np.array(ProdQuants.AvgDiscQuantity), bins=20, alpha=.25, label=\"Discounted Products\", density=True, color=\"red\")\n",
    "plt.hist(np.array(ProdQuants.AvgNonDiscQuantity), bins=20, alpha=.25, label=\"Full Price Products\", density=True, color=\"blue\")\n",
    "plt.title(\"Order Quantities of Individual Products by Discount Present\")\n",
    "plt.ylabel(\"Relative Frequency of Order Quantity Per Product\")\n",
    "plt.xlabel(\"Order Quantity Per Product\")\n",
    "plt.legend()\n",
    "plt.show()"
   ]
  },
  {
   "cell_type": "markdown",
   "metadata": {},
   "source": [
    "#### Two-Tailed T-Test"
   ]
  },
  {
   "cell_type": "code",
   "execution_count": 13,
   "metadata": {
    "tags": [
     "set"
    ]
   },
   "outputs": [
    {
     "name": "stdout",
     "output_type": "stream",
     "text": [
      "The p-value is: 4.653938937192578e-06\n"
     ]
    }
   ],
   "source": [
    "from scipy.stats import ttest_ind\n",
    "tstat, pval = ttest_ind(ProdQuants.AvgDiscQuantity,ProdQuants.AvgNonDiscQuantity)\n",
    "print(f\"The p-value is: {float(pval)}\")"
   ]
  },
  {
   "cell_type": "markdown",
   "metadata": {},
   "source": [
    "#### Effect Size"
   ]
  },
  {
   "cell_type": "code",
   "execution_count": 14,
   "metadata": {
    "scrolled": true,
    "tags": [
     "set"
    ]
   },
   "outputs": [
    {
     "name": "stdout",
     "output_type": "stream",
     "text": [
      "First average = 26.43\n",
      "Second average = 21.81\n",
      "Difference in means = 4.62\n",
      "Cohen's d = 0.77\n"
     ]
    }
   ],
   "source": [
    "Cohen_d(ProdQuants.AvgDiscQuantity,ProdQuants.AvgNonDiscQuantity)"
   ]
  },
  {
   "cell_type": "markdown",
   "metadata": {},
   "source": [
    "**Interpreting the Results**: The two-sample t-test returns a significant p-value, far below the alpha level of 0.05. As a result, I will reject the null hypothesis, and accept the alternative hypothesis stating that there is a significant difference between the average quantity of each product ordered depending on whether it is discounted.\n",
    "\n",
    "Cohen's D shows us that there is quite a significant effect size between the two means. On average, discounting a product increases the quantity of that product by about 5 items."
   ]
  },
  {
   "cell_type": "markdown",
   "metadata": {},
   "source": [
    "### Difference in individual order volume with discount present\n",
    "\n",
    "**H<sub>0</sub>:** The average individual order volume is the same, whether or not the customer's order contains discounted products.\n",
    "\n",
    "**H<sub>a</sub>:**  There is a significant difference in the average individual order volume, depending on whether or not the order contains any discounted products.\n",
    "\n",
    "This will be a two-tailed t-test, as the question asks whether the presence of discounted products increases or decreases the average order volume."
   ]
  },
  {
   "cell_type": "code",
   "execution_count": 15,
   "metadata": {
    "tags": [
     "set"
    ]
   },
   "outputs": [],
   "source": [
    "disc_grouped = query(\"SELECT SUM (Quantity) FROM OrderDetail GROUP BY OrderId HAVING SUM (Discount) != 0\")\n",
    "full_grouped = query(\"SELECT SUM (Quantity) FROM OrderDetail GROUP BY OrderId HAVING SUM (Discount) = 0\")"
   ]
  },
  {
   "cell_type": "code",
   "execution_count": 16,
   "metadata": {
    "tags": [
     "set"
    ]
   },
   "outputs": [
    {
     "data": {
      "text/plain": [
       "50     20\n",
       "80     13\n",
       "30     11\n",
       "20     10\n",
       "40      9\n",
       "100     9\n",
       "38      7\n",
       "Name: SUM (Quantity), dtype: int64"
      ]
     },
     "execution_count": 16,
     "metadata": {},
     "output_type": "execute_result"
    }
   ],
   "source": [
    "# Previewing the frequency of each order volume for orders containing discounts\n",
    "\n",
    "disc_grouped[\"SUM (Quantity)\"].value_counts().head(7)"
   ]
  },
  {
   "cell_type": "code",
   "execution_count": 17,
   "metadata": {
    "tags": [
     "set"
    ]
   },
   "outputs": [
    {
     "data": {
      "text/plain": [
       "50    18\n",
       "20    17\n",
       "10    16\n",
       "30    12\n",
       "24    11\n",
       "32    10\n",
       "15    10\n",
       "Name: SUM (Quantity), dtype: int64"
      ]
     },
     "execution_count": 17,
     "metadata": {},
     "output_type": "execute_result"
    }
   ],
   "source": [
    "# Previewing the frequency of each order volume for full-priced orders\n",
    "\n",
    "full_grouped[\"SUM (Quantity)\"].value_counts().head(7)"
   ]
  },
  {
   "cell_type": "code",
   "execution_count": 18,
   "metadata": {
    "scrolled": false,
    "tags": [
     "set"
    ]
   },
   "outputs": [
    {
     "data": {
      "image/png": "[encoded data removed]",
      "text/plain": [
       "<Figure size 576x360 with 1 Axes>"
      ]
     },
     "metadata": {
      "needs_background": "light"
     },
     "output_type": "display_data"
    }
   ],
   "source": [
    "# Visualizing the difference in order volume for orders that are full-priced vs. discounted\n",
    "\n",
    "plt.figure(figsize=(8,5))\n",
    "plt.hist(np.array(disc_grouped), bins=20, alpha=.25, label=\"Contains Discounted Products\", density=True, color=\"red\")\n",
    "plt.hist(np.array(full_grouped), bins=20, alpha=.25, label=\"All Items Full Price\", density=True, color=\"blue\")\n",
    "plt.title(\"Order Volume by Discount Present\")\n",
    "plt.ylabel(\"Relative Frequency of Order Quantity\")\n",
    "plt.xlabel(\"Individual Order Volume\")\n",
    "plt.legend()\n",
    "plt.show()"
   ]
  },
  {
   "cell_type": "markdown",
   "metadata": {},
   "source": [
    "These distributions are quite skewed, so we need to normalize them before performing tests a t-test."
   ]
  },
  {
   "cell_type": "code",
   "execution_count": 19,
   "metadata": {
    "tags": [
     "set"
    ]
   },
   "outputs": [],
   "source": [
    "# Log-transforming to normalize\n",
    "\n",
    "disc_grouped_log = disc_grouped.copy(deep=True)\n",
    "disc_grouped_log[\"SUM (Quantity)\"] = np.log(disc_grouped_log[\"SUM (Quantity)\"])\n",
    "\n",
    "full_grouped_log = full_grouped.copy(deep=True)\n",
    "full_grouped_log[\"SUM (Quantity)\"] = np.log(full_grouped_log[\"SUM (Quantity)\"])"
   ]
  },
  {
   "cell_type": "code",
   "execution_count": 20,
   "metadata": {
    "tags": [
     "set"
    ]
   },
   "outputs": [
    {
     "data": {
      "image/png": "[encoded data removed]",
      "text/plain": [
       "<Figure size 576x360 with 1 Axes>"
      ]
     },
     "metadata": {
      "needs_background": "light"
     },
     "output_type": "display_data"
    }
   ],
   "source": [
    "# Visualizing the difference in order volume for orders that are full-priced vs. discounted after log transformation\n",
    "\n",
    "plt.figure(figsize=(8,5))\n",
    "plt.hist(np.array(disc_grouped_log), bins=20, alpha=.25, label=\"Contains Discounted Products\", density=True, color=\"red\")\n",
    "plt.hist(np.array(full_grouped_log), bins=20, alpha=.25, label=\"All Items Full Price\", density=True, color=\"blue\")\n",
    "plt.title(\"Order Volume by Discount Present (Log-Transformed)\")\n",
    "plt.ylabel(\"Relative Frequency of Order Quantity\")\n",
    "plt.xlabel(\"Transformed Individual Order Volume\")\n",
    "plt.legend()\n",
    "plt.show()"
   ]
  },
  {
   "cell_type": "markdown",
   "metadata": {},
   "source": [
    "#### Two-Tailed T-Test"
   ]
  },
  {
   "cell_type": "code",
   "execution_count": 21,
   "metadata": {
    "tags": [
     "set"
    ]
   },
   "outputs": [
    {
     "name": "stdout",
     "output_type": "stream",
     "text": [
      "The p-value is: 9.032446365816016e-15\n"
     ]
    }
   ],
   "source": [
    "from scipy.stats import ttest_ind\n",
    "tstat, pval = ttest_ind(disc_grouped_log,full_grouped_log)\n",
    "print(f\"The p-value is: {float(pval)}\")"
   ]
  },
  {
   "cell_type": "markdown",
   "metadata": {},
   "source": [
    "#### Effect Size"
   ]
  },
  {
   "cell_type": "code",
   "execution_count": 22,
   "metadata": {
    "tags": [
     "set"
    ]
   },
   "outputs": [
    {
     "name": "stdout",
     "output_type": "stream",
     "text": [
      "First average = 72.94\n",
      "Second average = 52.44\n",
      "Difference in means = 20.5\n",
      "Cohen's d = 0.41\n"
     ]
    }
   ],
   "source": [
    "Cohen_d(disc_grouped,full_grouped)"
   ]
  },
  {
   "cell_type": "markdown",
   "metadata": {},
   "source": [
    "**Interpreting the Results**: The two-sample t-test returns a significant p-value. As a result, I will reject the null hypothesis, and accept the alternative hypothesis stating that there is a significant difference in the average individual order volume when a discounted product is included.\n",
    "\n",
    "Cohen's D shows us that there is a moderate effect size between the two means. On average, including a discounted product in the order increases the order volume by about 21 items."
   ]
  },
  {
   "cell_type": "markdown",
   "metadata": {},
   "source": [
    "### Does the discount level impact order volume?\n",
    "\n",
    "**H<sub>0</sub>:** The average order volume is the same regardless of the level of the discount applied.\n",
    "\n",
    "**H<sub>a</sub>:** The average order volume is significantly different depending on the level of the discount applied.\n",
    "\n",
    "This will be an ANOVA test, as we will be testing the impact of various discount levels on order volume."
   ]
  },
  {
   "cell_type": "code",
   "execution_count": 23,
   "metadata": {},
   "outputs": [],
   "source": [
    "disc_quants = query(\"SELECT Discount, Quantity FROM OrderDetail WHERE Discount != 0\")"
   ]
  },
  {
   "cell_type": "code",
   "execution_count": 24,
   "metadata": {},
   "outputs": [
    {
     "data": {
      "text/html": [
       "<div>\n",
       "<style scoped>\n",
       "    .dataframe tbody tr th:only-of-type {\n",
       "        vertical-align: middle;\n",
       "    }\n",
       "\n",
       "    .dataframe tbody tr th {\n",
       "        vertical-align: top;\n",
       "    }\n",
       "\n",
       "    .dataframe thead th {\n",
       "        text-align: right;\n",
       "    }\n",
       "</style>\n",
       "<table border=\"1\" class=\"dataframe\">\n",
       "  <thead>\n",
       "    <tr style=\"text-align: right;\">\n",
       "      <th></th>\n",
       "      <th>Discount</th>\n",
       "      <th>Quantity</th>\n",
       "    </tr>\n",
       "  </thead>\n",
       "  <tbody>\n",
       "    <tr>\n",
       "      <th>0</th>\n",
       "      <td>0.15</td>\n",
       "      <td>35</td>\n",
       "    </tr>\n",
       "    <tr>\n",
       "      <th>1</th>\n",
       "      <td>0.15</td>\n",
       "      <td>15</td>\n",
       "    </tr>\n",
       "    <tr>\n",
       "      <th>2</th>\n",
       "      <td>0.05</td>\n",
       "      <td>6</td>\n",
       "    </tr>\n",
       "    <tr>\n",
       "      <th>3</th>\n",
       "      <td>0.05</td>\n",
       "      <td>15</td>\n",
       "    </tr>\n",
       "    <tr>\n",
       "      <th>4</th>\n",
       "      <td>0.05</td>\n",
       "      <td>40</td>\n",
       "    </tr>\n",
       "    <tr>\n",
       "      <th>5</th>\n",
       "      <td>0.05</td>\n",
       "      <td>25</td>\n",
       "    </tr>\n",
       "    <tr>\n",
       "      <th>6</th>\n",
       "      <td>0.15</td>\n",
       "      <td>15</td>\n",
       "    </tr>\n",
       "  </tbody>\n",
       "</table>\n",
       "</div>"
      ],
      "text/plain": [
       "   Discount  Quantity\n",
       "0      0.15        35\n",
       "1      0.15        15\n",
       "2      0.05         6\n",
       "3      0.05        15\n",
       "4      0.05        40\n",
       "5      0.05        25\n",
       "6      0.15        15"
      ]
     },
     "execution_count": 24,
     "metadata": {},
     "output_type": "execute_result"
    }
   ],
   "source": [
    "# Previewing all order quantities for the most frequent discount levels\n",
    "\n",
    "impdiscs = list(disc_quants.Discount.value_counts()[disc_quants.Discount.value_counts() > 5].index)\n",
    "disc_quants = disc_quants[disc_quants.Discount.isin(impdiscs)]\n",
    "disc_quants.head(7)"
   ]
  },
  {
   "cell_type": "code",
   "execution_count": 25,
   "metadata": {},
   "outputs": [
    {
     "data": {
      "text/html": [
       "<div>\n",
       "<style scoped>\n",
       "    .dataframe tbody tr th:only-of-type {\n",
       "        vertical-align: middle;\n",
       "    }\n",
       "\n",
       "    .dataframe tbody tr th {\n",
       "        vertical-align: top;\n",
       "    }\n",
       "\n",
       "    .dataframe thead th {\n",
       "        text-align: right;\n",
       "    }\n",
       "</style>\n",
       "<table border=\"1\" class=\"dataframe\">\n",
       "  <thead>\n",
       "    <tr style=\"text-align: right;\">\n",
       "      <th></th>\n",
       "      <th>Discount</th>\n",
       "      <th>TotalOrders</th>\n",
       "    </tr>\n",
       "  </thead>\n",
       "  <tbody>\n",
       "    <tr>\n",
       "      <th>0</th>\n",
       "      <td>0.05</td>\n",
       "      <td>185</td>\n",
       "    </tr>\n",
       "    <tr>\n",
       "      <th>1</th>\n",
       "      <td>0.10</td>\n",
       "      <td>173</td>\n",
       "    </tr>\n",
       "    <tr>\n",
       "      <th>2</th>\n",
       "      <td>0.15</td>\n",
       "      <td>157</td>\n",
       "    </tr>\n",
       "    <tr>\n",
       "      <th>3</th>\n",
       "      <td>0.20</td>\n",
       "      <td>161</td>\n",
       "    </tr>\n",
       "    <tr>\n",
       "      <th>4</th>\n",
       "      <td>0.25</td>\n",
       "      <td>154</td>\n",
       "    </tr>\n",
       "  </tbody>\n",
       "</table>\n",
       "</div>"
      ],
      "text/plain": [
       "   Discount  TotalOrders\n",
       "0      0.05          185\n",
       "1      0.10          173\n",
       "2      0.15          157\n",
       "3      0.20          161\n",
       "4      0.25          154"
      ]
     },
     "execution_count": 25,
     "metadata": {},
     "output_type": "execute_result"
    }
   ],
   "source": [
    "# Total number of orders per discount level for the most frequent discount levels\n",
    "\n",
    "disc_tots = query(\"SELECT Discount, COUNT (Quantity) as TotalOrders FROM OrderDetail WHERE Discount != 0 GROUP BY Discount HAVING AVG (Quantity) > 5\")\n",
    "disc_tots"
   ]
  },
  {
   "cell_type": "code",
   "execution_count": 26,
   "metadata": {},
   "outputs": [
    {
     "data": {
      "image/png": "[encoded data removed]",
      "text/plain": [
       "<Figure size 576x360 with 1 Axes>"
      ]
     },
     "metadata": {
      "needs_background": "light"
     },
     "output_type": "display_data"
    }
   ],
   "source": [
    "# Visualizing the spread of order size per discount level\n",
    "\n",
    "plt.figure(figsize=(8,5))\n",
    "plt.scatter(disc_quants.Discount, disc_quants.Quantity)\n",
    "plt.title(\"Product Quantity Ordered per Discount Level\")\n",
    "plt.ylabel(\"Product Quantity Ordered\")\n",
    "plt.xlabel(\"Discount Level\")\n",
    "plt.show()"
   ]
  },
  {
   "cell_type": "code",
   "execution_count": 27,
   "metadata": {
    "scrolled": true
   },
   "outputs": [
    {
     "data": {
      "text/html": [
       "<div>\n",
       "<style scoped>\n",
       "    .dataframe tbody tr th:only-of-type {\n",
       "        vertical-align: middle;\n",
       "    }\n",
       "\n",
       "    .dataframe tbody tr th {\n",
       "        vertical-align: top;\n",
       "    }\n",
       "\n",
       "    .dataframe thead th {\n",
       "        text-align: right;\n",
       "    }\n",
       "</style>\n",
       "<table border=\"1\" class=\"dataframe\">\n",
       "  <thead>\n",
       "    <tr style=\"text-align: right;\">\n",
       "      <th></th>\n",
       "      <th>Discount</th>\n",
       "      <th>AvgQuantity</th>\n",
       "    </tr>\n",
       "  </thead>\n",
       "  <tbody>\n",
       "    <tr>\n",
       "      <th>0</th>\n",
       "      <td>0.05</td>\n",
       "      <td>28.010811</td>\n",
       "    </tr>\n",
       "    <tr>\n",
       "      <th>1</th>\n",
       "      <td>0.10</td>\n",
       "      <td>25.236994</td>\n",
       "    </tr>\n",
       "    <tr>\n",
       "      <th>2</th>\n",
       "      <td>0.15</td>\n",
       "      <td>28.382166</td>\n",
       "    </tr>\n",
       "    <tr>\n",
       "      <th>3</th>\n",
       "      <td>0.20</td>\n",
       "      <td>27.024845</td>\n",
       "    </tr>\n",
       "    <tr>\n",
       "      <th>4</th>\n",
       "      <td>0.25</td>\n",
       "      <td>28.240260</td>\n",
       "    </tr>\n",
       "  </tbody>\n",
       "</table>\n",
       "</div>"
      ],
      "text/plain": [
       "   Discount  AvgQuantity\n",
       "0      0.05    28.010811\n",
       "1      0.10    25.236994\n",
       "2      0.15    28.382166\n",
       "3      0.20    27.024845\n",
       "4      0.25    28.240260"
      ]
     },
     "execution_count": 27,
     "metadata": {},
     "output_type": "execute_result"
    }
   ],
   "source": [
    "# Average quantity of the discounted product in each order, grouped by discount level\n",
    "\n",
    "avgperdisc = query(\"SELECT Discount, AVG (Quantity) as AvgQuantity FROM OrderDetail WHERE Discount != 0 GROUP BY Discount HAVING AVG (Quantity) > 5\")\n",
    "avgperdisc.sort_values(\"Discount\")"
   ]
  },
  {
   "cell_type": "markdown",
   "metadata": {},
   "source": [
    "#### ANOVA Test"
   ]
  },
  {
   "cell_type": "code",
   "execution_count": 28,
   "metadata": {},
   "outputs": [
    {
     "name": "stdout",
     "output_type": "stream",
     "text": [
      "                    sum_sq     df         F    PR(>F)\n",
      "C(Discount)    1159.517551    4.0  0.674103  0.610041\n",
      "Residual     354768.342690  825.0       NaN       NaN\n"
     ]
    }
   ],
   "source": [
    "formula = 'Quantity ~ C(Discount)'\n",
    "lm1 = ols(formula, disc_quants).fit()\n",
    "table1 = sm.stats.anova_lm(lm1, typ=2)\n",
    "print(table1)"
   ]
  },
  {
   "cell_type": "markdown",
   "metadata": {},
   "source": [
    "**Interpreting the Results**: The ANOVA test returns a high p-value of 0.61, far above the threshold to reject the null hypothesis. As seen above, the average quantity ordered per discount level is very similar across each discount level. These results indicate that the size of the discount has no impact on the quantity of items ordered."
   ]
  },
  {
   "cell_type": "markdown",
   "metadata": {},
   "source": [
    "***\n",
    "\n",
    "## Question 2: Do discounts increase net revenue?\n",
    "\n",
    "### As a follow up to the previous question: Does the presence of a discount increase the revenue of an order?\n",
    "\n",
    "**H<sub>0</sub>:** The average net revenue per order is the same regardless of whether or not a discount is present in the order.\n",
    "\n",
    "**H<sub>a</sub>:** The average net revenue per is greater when a discount is present.\n",
    "\n",
    "This will be a one-tailed t-test, as I am assuming that an order with a discount present will earn a higher revenue than one without.\n",
    "\n",
    "_**Calculation for Net Revenue Per Order:** (unitprice x quantity x (1-discount)) summed per order_"
   ]
  },
  {
   "cell_type": "code",
   "execution_count": 29,
   "metadata": {},
   "outputs": [],
   "source": [
    "# Calculating the net revenue per order, compartimentalized by product\n",
    "\n",
    "order_rev = copy.copy(order_dets)\n",
    "\n",
    "orderdetsindexes = list(order_rev.index)\n",
    "rev_col = []\n",
    "\n",
    "for i in orderdetsindexes:\n",
    "    unit = order_dets.UnitPrice[i]\n",
    "    quant = order_dets.Quantity[i]\n",
    "    perc = 1 - order_dets.Discount[i]\n",
    "    rev_col.append(unit * quant * perc)"
   ]
  },
  {
   "cell_type": "code",
   "execution_count": 30,
   "metadata": {},
   "outputs": [
    {
     "data": {
      "text/html": [
       "<div>\n",
       "<style scoped>\n",
       "    .dataframe tbody tr th:only-of-type {\n",
       "        vertical-align: middle;\n",
       "    }\n",
       "\n",
       "    .dataframe tbody tr th {\n",
       "        vertical-align: top;\n",
       "    }\n",
       "\n",
       "    .dataframe thead th {\n",
       "        text-align: right;\n",
       "    }\n",
       "</style>\n",
       "<table border=\"1\" class=\"dataframe\">\n",
       "  <thead>\n",
       "    <tr style=\"text-align: right;\">\n",
       "      <th></th>\n",
       "      <th>Id</th>\n",
       "      <th>OrderId</th>\n",
       "      <th>ProductId</th>\n",
       "      <th>UnitPrice</th>\n",
       "      <th>Quantity</th>\n",
       "      <th>Discount</th>\n",
       "      <th>Revenue</th>\n",
       "    </tr>\n",
       "  </thead>\n",
       "  <tbody>\n",
       "    <tr>\n",
       "      <th>0</th>\n",
       "      <td>10248/11</td>\n",
       "      <td>10248</td>\n",
       "      <td>11</td>\n",
       "      <td>14.0</td>\n",
       "      <td>12</td>\n",
       "      <td>0.0</td>\n",
       "      <td>168.0</td>\n",
       "    </tr>\n",
       "    <tr>\n",
       "      <th>1</th>\n",
       "      <td>10248/42</td>\n",
       "      <td>10248</td>\n",
       "      <td>42</td>\n",
       "      <td>9.8</td>\n",
       "      <td>10</td>\n",
       "      <td>0.0</td>\n",
       "      <td>98.0</td>\n",
       "    </tr>\n",
       "    <tr>\n",
       "      <th>2</th>\n",
       "      <td>10248/72</td>\n",
       "      <td>10248</td>\n",
       "      <td>72</td>\n",
       "      <td>34.8</td>\n",
       "      <td>5</td>\n",
       "      <td>0.0</td>\n",
       "      <td>174.0</td>\n",
       "    </tr>\n",
       "    <tr>\n",
       "      <th>3</th>\n",
       "      <td>10249/14</td>\n",
       "      <td>10249</td>\n",
       "      <td>14</td>\n",
       "      <td>18.6</td>\n",
       "      <td>9</td>\n",
       "      <td>0.0</td>\n",
       "      <td>167.4</td>\n",
       "    </tr>\n",
       "    <tr>\n",
       "      <th>4</th>\n",
       "      <td>10249/51</td>\n",
       "      <td>10249</td>\n",
       "      <td>51</td>\n",
       "      <td>42.4</td>\n",
       "      <td>40</td>\n",
       "      <td>0.0</td>\n",
       "      <td>1696.0</td>\n",
       "    </tr>\n",
       "  </tbody>\n",
       "</table>\n",
       "</div>"
      ],
      "text/plain": [
       "         Id  OrderId  ProductId  UnitPrice  Quantity  Discount  Revenue\n",
       "0  10248/11    10248         11       14.0        12       0.0    168.0\n",
       "1  10248/42    10248         42        9.8        10       0.0     98.0\n",
       "2  10248/72    10248         72       34.8         5       0.0    174.0\n",
       "3  10249/14    10249         14       18.6         9       0.0    167.4\n",
       "4  10249/51    10249         51       42.4        40       0.0   1696.0"
      ]
     },
     "execution_count": 30,
     "metadata": {},
     "output_type": "execute_result"
    }
   ],
   "source": [
    "# Previewing the net revenue per order, compartimentalized by product\n",
    "\n",
    "order_rev['Revenue'] = rev_col\n",
    "order_rev.head()"
   ]
  },
  {
   "cell_type": "code",
   "execution_count": 31,
   "metadata": {},
   "outputs": [
    {
     "data": {
      "text/html": [
       "<div>\n",
       "<style scoped>\n",
       "    .dataframe tbody tr th:only-of-type {\n",
       "        vertical-align: middle;\n",
       "    }\n",
       "\n",
       "    .dataframe tbody tr th {\n",
       "        vertical-align: top;\n",
       "    }\n",
       "\n",
       "    .dataframe thead th {\n",
       "        text-align: right;\n",
       "    }\n",
       "</style>\n",
       "<table border=\"1\" class=\"dataframe\">\n",
       "  <thead>\n",
       "    <tr style=\"text-align: right;\">\n",
       "      <th></th>\n",
       "      <th>OrderId</th>\n",
       "      <th>Revenue</th>\n",
       "      <th>Sale</th>\n",
       "    </tr>\n",
       "  </thead>\n",
       "  <tbody>\n",
       "    <tr>\n",
       "      <th>0</th>\n",
       "      <td>10248</td>\n",
       "      <td>440.00</td>\n",
       "      <td>FullPrice</td>\n",
       "    </tr>\n",
       "    <tr>\n",
       "      <th>1</th>\n",
       "      <td>10249</td>\n",
       "      <td>1863.40</td>\n",
       "      <td>FullPrice</td>\n",
       "    </tr>\n",
       "    <tr>\n",
       "      <th>2</th>\n",
       "      <td>10250</td>\n",
       "      <td>1552.60</td>\n",
       "      <td>Discounted</td>\n",
       "    </tr>\n",
       "    <tr>\n",
       "      <th>3</th>\n",
       "      <td>10251</td>\n",
       "      <td>654.06</td>\n",
       "      <td>Discounted</td>\n",
       "    </tr>\n",
       "    <tr>\n",
       "      <th>4</th>\n",
       "      <td>10252</td>\n",
       "      <td>3597.90</td>\n",
       "      <td>Discounted</td>\n",
       "    </tr>\n",
       "  </tbody>\n",
       "</table>\n",
       "</div>"
      ],
      "text/plain": [
       "   OrderId  Revenue        Sale\n",
       "0    10248   440.00   FullPrice\n",
       "1    10249  1863.40   FullPrice\n",
       "2    10250  1552.60  Discounted\n",
       "3    10251   654.06  Discounted\n",
       "4    10252  3597.90  Discounted"
      ]
     },
     "execution_count": 31,
     "metadata": {},
     "output_type": "execute_result"
    }
   ],
   "source": [
    "# Previewing the net revenue per order and labeling as discounted or full-priced\n",
    "\n",
    "rev_df = order_rev.groupby(['OrderId'])['Revenue','Discount'].sum().reset_index()\n",
    "\n",
    "rev_df['Sale'] = pd.cut(rev_df.Discount,[0.001,1],labels=['Discounted'])\n",
    "rev_df['Sale'] = rev_df.Sale.cat.add_categories(\"FullPrice\").fillna(\"FullPrice\")\n",
    "\n",
    "rev_df.drop(['Discount'],axis=1,inplace=True)\n",
    "\n",
    "rev_df.head()"
   ]
  },
  {
   "cell_type": "code",
   "execution_count": 32,
   "metadata": {},
   "outputs": [],
   "source": [
    "# Creating separate dataframes for discounted orders and full-priced orders\n",
    "\n",
    "rev_disc = rev_df[rev_df.Sale == \"Discounted\"][\"Revenue\"].reset_index()\n",
    "rev_full = rev_df[rev_df.Sale == \"FullPrice\"][\"Revenue\"].reset_index()"
   ]
  },
  {
   "cell_type": "code",
   "execution_count": 33,
   "metadata": {
    "scrolled": true
   },
   "outputs": [
    {
     "data": {
      "image/png": "[encoded data removed]",
      "text/plain": [
       "<Figure size 864x72 with 1 Axes>"
      ]
     },
     "metadata": {
      "needs_background": "light"
     },
     "output_type": "display_data"
    },
    {
     "name": "stdout",
     "output_type": "stream",
     "text": [
      "Average Order Net Revenue = $1692.48\n",
      "Lowest Order Net Revenue = $23.8\n",
      "Highest Order  Net Revenue = $16387.5\n"
     ]
    },
    {
     "data": {
      "image/png": "[encoded data removed]",
      "text/plain": [
       "<Figure size 864x72 with 1 Axes>"
      ]
     },
     "metadata": {
      "needs_background": "light"
     },
     "output_type": "display_data"
    },
    {
     "name": "stdout",
     "output_type": "stream",
     "text": [
      "Average Order Net Revenue = $1385.04\n",
      "Lowest Order Net Revenue = $12.5\n",
      "Highest Order Net Revenue = $15810.0\n"
     ]
    }
   ],
   "source": [
    "# Previewing the distribution of net revenue per order for discounted orders and full-priced orders\n",
    "\n",
    "rev_disc.boxplot(column='Revenue', vert=False, figsize=(12,1))\n",
    "plt.title(\"Net Revenue for Orders with Discounts Present\")\n",
    "plt.show()\n",
    "print(f'Average Order Net Revenue = ${round(float(rev_disc.Revenue.mean()),2)}')\n",
    "print(f'Lowest Order Net Revenue = ${round(float(rev_disc.Revenue.min()),2)}')\n",
    "print(f'Highest Order  Net Revenue = ${round(float(rev_disc.Revenue.max()),2)}')\n",
    "\n",
    "rev_full.boxplot(column='Revenue', vert=False, figsize=(12,1))\n",
    "plt.title(\"Net Revenue for Full Priced Orders\")\n",
    "plt.show()\n",
    "print(f'Average Order Net Revenue = ${round(float(rev_full.Revenue.mean()),2)}')\n",
    "print(f'Lowest Order Net Revenue = ${round(float(rev_full.Revenue.min()),2)}')\n",
    "print(f'Highest Order Net Revenue = ${round(float(rev_full.Revenue.max()),2)}')"
   ]
  },
  {
   "cell_type": "code",
   "execution_count": 34,
   "metadata": {},
   "outputs": [
    {
     "data": {
      "image/png": "[encoded data removed]",
      "text/plain": [
       "<Figure size 576x360 with 1 Axes>"
      ]
     },
     "metadata": {
      "needs_background": "light"
     },
     "output_type": "display_data"
    }
   ],
   "source": [
    "# Visualizing the difference in net revenue for orders that are full-priced vs. including discounted products\n",
    "\n",
    "plt.figure(figsize=(8,5))\n",
    "plt.hist(np.array(rev_disc.Revenue), bins=20, alpha=.25, label=\"Contains Discounted Products\", density=True, color=\"red\")\n",
    "plt.hist(np.array(rev_full.Revenue), bins=20, alpha=.25, label=\"All Items Full Price\", density=True, color=\"blue\")\n",
    "plt.title(\"Net Revenue by Discount Present\")\n",
    "plt.ylabel(\"Relative Frequency of Net Revenue Per Order\")\n",
    "plt.xlabel(\"Individual Order Net Revenue\")\n",
    "plt.legend()\n",
    "plt.show()"
   ]
  },
  {
   "cell_type": "markdown",
   "metadata": {},
   "source": [
    "These distributions are quite skewed, so we need to normalize them before performing tests a t-test."
   ]
  },
  {
   "cell_type": "code",
   "execution_count": 35,
   "metadata": {},
   "outputs": [],
   "source": [
    "# Log-transforming to normalize\n",
    "\n",
    "rev_disc_log = rev_disc.copy(deep=True)\n",
    "rev_disc_log.Revenue = np.log(rev_disc_log.Revenue)\n",
    "\n",
    "rev_full_log = rev_full.copy(deep=True)\n",
    "rev_full_log.Revenue = np.log(rev_full_log.Revenue)"
   ]
  },
  {
   "cell_type": "code",
   "execution_count": 36,
   "metadata": {},
   "outputs": [
    {
     "data": {
      "image/png": "[encoded data removed]",
      "text/plain": [
       "<Figure size 576x360 with 1 Axes>"
      ]
     },
     "metadata": {
      "needs_background": "light"
     },
     "output_type": "display_data"
    }
   ],
   "source": [
    "# Visualizing the difference in net revenue for orders that are full-priced vs. including discounted products after log transformation\n",
    "\n",
    "plt.figure(figsize=(8,5))\n",
    "plt.hist(np.array(rev_disc_log.Revenue), bins=20, alpha=.25, label=\"Contains Discounted Products\", density=True, color=\"red\")\n",
    "plt.hist(np.array(rev_full_log.Revenue), bins=20, alpha=.25, label=\"All Items Full Price\", density=True, color=\"blue\")\n",
    "plt.title(\"Net Revenue by Discount Present (Log-Transformed)\")\n",
    "plt.ylabel(\"Relative Frequency of Net Revenue Per Order\")\n",
    "plt.xlabel(\"Transformed Individual Order Net Revenue\")\n",
    "plt.legend()\n",
    "plt.show()"
   ]
  },
  {
   "cell_type": "markdown",
   "metadata": {},
   "source": [
    "#### One-Tailed T-Test"
   ]
  },
  {
   "cell_type": "code",
   "execution_count": 37,
   "metadata": {},
   "outputs": [
    {
     "name": "stdout",
     "output_type": "stream",
     "text": [
      "The p-value is: 8.694440551759886e-07\n"
     ]
    }
   ],
   "source": [
    "from scipy.stats import ttest_ind\n",
    "tstat, pval = ttest_ind(rev_disc_log.Revenue,rev_full_log.Revenue)\n",
    "print(f\"The p-value is: {float(pval)/2}\")"
   ]
  },
  {
   "cell_type": "markdown",
   "metadata": {},
   "source": [
    "#### Effect Size"
   ]
  },
  {
   "cell_type": "code",
   "execution_count": 38,
   "metadata": {},
   "outputs": [
    {
     "name": "stdout",
     "output_type": "stream",
     "text": [
      "First average = 1692.48\n",
      "Second average = 1385.04\n",
      "Difference in means = 307.44\n",
      "Cohen's d = 0.17\n"
     ]
    }
   ],
   "source": [
    "Cohen_d(rev_disc.Revenue,rev_full.Revenue)"
   ]
  },
  {
   "cell_type": "markdown",
   "metadata": {},
   "source": [
    "**Interpreting the Results**: The one-sample t-test returns a significant p-value. Note that because this was a one-tailed test, the p-value had to be divided by two, because ttest_ind defaults to calculate statistics for a two-tailed test. I will reject the null hypothesis, and accept the alternative hypothesis stating that there is a significant difference in the net revenue for an order when a discounted product is included.\n",
    "\n",
    "Cohen's D shows us that there is a modest effect size between the two means. On average, including discounted products increases the net revenue per order by $307.44."
   ]
  },
  {
   "cell_type": "markdown",
   "metadata": {},
   "source": [
    "***\n",
    "\n",
    "## Question 3: Does customer location impact revenue?\n",
    "\n",
    "### Does Northwind receive more expensive orders from certain regions?\n",
    "\n",
    "**H<sub>0</sub>:** The average revenue per order is the same regardless of the region the orders come from.\n",
    "\n",
    "**H<sub>a</sub>:** There is a significant difference in the average revenue per order from different regions.\n",
    "\n",
    "This will be an ANOVA test, as we will be testing the relationship between multiple discount regions and average revenue per order."
   ]
  },
  {
   "cell_type": "code",
   "execution_count": 39,
   "metadata": {
    "scrolled": true
   },
   "outputs": [
    {
     "data": {
      "text/html": [
       "<div>\n",
       "<style scoped>\n",
       "    .dataframe tbody tr th:only-of-type {\n",
       "        vertical-align: middle;\n",
       "    }\n",
       "\n",
       "    .dataframe tbody tr th {\n",
       "        vertical-align: top;\n",
       "    }\n",
       "\n",
       "    .dataframe thead th {\n",
       "        text-align: right;\n",
       "    }\n",
       "</style>\n",
       "<table border=\"1\" class=\"dataframe\">\n",
       "  <thead>\n",
       "    <tr style=\"text-align: right;\">\n",
       "      <th></th>\n",
       "      <th>OrderId</th>\n",
       "      <th>Revenue</th>\n",
       "      <th>Quantity</th>\n",
       "      <th>ShipRegion</th>\n",
       "    </tr>\n",
       "  </thead>\n",
       "  <tbody>\n",
       "    <tr>\n",
       "      <th>0</th>\n",
       "      <td>10248</td>\n",
       "      <td>440.00</td>\n",
       "      <td>27</td>\n",
       "      <td>Western Europe</td>\n",
       "    </tr>\n",
       "    <tr>\n",
       "      <th>1</th>\n",
       "      <td>10249</td>\n",
       "      <td>1863.40</td>\n",
       "      <td>49</td>\n",
       "      <td>Western Europe</td>\n",
       "    </tr>\n",
       "    <tr>\n",
       "      <th>2</th>\n",
       "      <td>10250</td>\n",
       "      <td>1552.60</td>\n",
       "      <td>60</td>\n",
       "      <td>South America</td>\n",
       "    </tr>\n",
       "    <tr>\n",
       "      <th>3</th>\n",
       "      <td>10251</td>\n",
       "      <td>654.06</td>\n",
       "      <td>41</td>\n",
       "      <td>Western Europe</td>\n",
       "    </tr>\n",
       "    <tr>\n",
       "      <th>4</th>\n",
       "      <td>10252</td>\n",
       "      <td>3597.90</td>\n",
       "      <td>105</td>\n",
       "      <td>Western Europe</td>\n",
       "    </tr>\n",
       "  </tbody>\n",
       "</table>\n",
       "</div>"
      ],
      "text/plain": [
       "   OrderId  Revenue  Quantity      ShipRegion\n",
       "0    10248   440.00        27  Western Europe\n",
       "1    10249  1863.40        49  Western Europe\n",
       "2    10250  1552.60        60   South America\n",
       "3    10251   654.06        41  Western Europe\n",
       "4    10252  3597.90       105  Western Europe"
      ]
     },
     "execution_count": 39,
     "metadata": {},
     "output_type": "execute_result"
    }
   ],
   "source": [
    "# Previewing net revenue per order by region\n",
    "\n",
    "ordrevs = order_rev.groupby(['OrderId'])['Revenue','Quantity'].sum().reset_index()\n",
    "ordrevs = pd.concat([ordrevs,orders.ShipRegion],axis=1)\n",
    "ordrevs.head()"
   ]
  },
  {
   "cell_type": "code",
   "execution_count": 40,
   "metadata": {},
   "outputs": [
    {
     "data": {
      "image/png": "[encoded data removed]",
      "text/plain": [
       "<Figure size 864x432 with 1 Axes>"
      ]
     },
     "metadata": {
      "needs_background": "light"
     },
     "output_type": "display_data"
    }
   ],
   "source": [
    "# Visualizing the distribution of net revenue per order for each region\n",
    "\n",
    "plt.figure(figsize=(12,6))\n",
    "sns.set_style(\"whitegrid\")\n",
    "ax = sns.violinplot(x=\"ShipRegion\", y=\"Revenue\", data=ordrevs)\n",
    "plt.title(\"Distribution of Net Revenue Per Order by Region\")\n",
    "plt.xticks(rotation=45)\n",
    "plt.show()"
   ]
  },
  {
   "cell_type": "code",
   "execution_count": 41,
   "metadata": {},
   "outputs": [
    {
     "name": "stdout",
     "output_type": "stream",
     "text": [
      "['Western Europe', 'South America', 'Central America', 'North America', 'Northern Europe', 'Scandinavia', 'Southern Europe', 'British Isles', 'Eastern Europe']\n"
     ]
    }
   ],
   "source": [
    "regions = list(ordrevs.ShipRegion.unique())\n",
    "print(regions)"
   ]
  },
  {
   "cell_type": "code",
   "execution_count": 42,
   "metadata": {
    "scrolled": true
   },
   "outputs": [
    {
     "data": {
      "image/png": "[encoded data removed]",
      "text/plain": [
       "<Figure size 864x432 with 1 Axes>"
      ]
     },
     "metadata": {},
     "output_type": "display_data"
    }
   ],
   "source": [
    "# Visualizing the average net revenue per order by region\n",
    "\n",
    "plt.figure(figsize=(12,6))\n",
    "\n",
    "for i in regions:\n",
    "    y = round(ordrevs[ordrevs.ShipRegion==i][\"Revenue\"].mean(),2)\n",
    "    plt.bar(i, y)\n",
    "    plt.text(i, y*1.015, str(f'${y}'))\n",
    "    \n",
    "plt.title('Average Net Order Revenue by Region')\n",
    "plt.ylabel('Average Net Order Revenue')\n",
    "plt.xticks(rotation=45)\n",
    "\n",
    "plt.show()"
   ]
  },
  {
   "cell_type": "markdown",
   "metadata": {},
   "source": [
    "#### ANOVA Test"
   ]
  },
  {
   "cell_type": "code",
   "execution_count": 43,
   "metadata": {},
   "outputs": [
    {
     "name": "stdout",
     "output_type": "stream",
     "text": [
      "                     sum_sq     df         F        PR(>F)\n",
      "C(ShipRegion)  1.449610e+08    8.0  5.556116  7.242547e-07\n",
      "Residual       2.677522e+09  821.0       NaN           NaN\n"
     ]
    }
   ],
   "source": [
    "formula = 'Revenue ~ C(ShipRegion)'\n",
    "lm2 = ols(formula, ordrevs).fit()\n",
    "table2 = sm.stats.anova_lm(lm2, typ=2)\n",
    "print(table2)"
   ]
  },
  {
   "cell_type": "code",
   "execution_count": 44,
   "metadata": {
    "scrolled": true
   },
   "outputs": [
    {
     "data": {
      "text/html": [
       "<table class=\"simpletable\">\n",
       "<caption>OLS Regression Results</caption>\n",
       "<tr>\n",
       "  <th>Dep. Variable:</th>         <td>Revenue</td>     <th>  R-squared:         </th> <td>   0.051</td> \n",
       "</tr>\n",
       "<tr>\n",
       "  <th>Model:</th>                   <td>OLS</td>       <th>  Adj. R-squared:    </th> <td>   0.042</td> \n",
       "</tr>\n",
       "<tr>\n",
       "  <th>Method:</th>             <td>Least Squares</td>  <th>  F-statistic:       </th> <td>   5.556</td> \n",
       "</tr>\n",
       "<tr>\n",
       "  <th>Date:</th>             <td>Mon, 22 Apr 2019</td> <th>  Prob (F-statistic):</th> <td>7.24e-07</td> \n",
       "</tr>\n",
       "<tr>\n",
       "  <th>Time:</th>                 <td>17:42:54</td>     <th>  Log-Likelihood:    </th> <td> -7397.2</td> \n",
       "</tr>\n",
       "<tr>\n",
       "  <th>No. Observations:</th>      <td>   830</td>      <th>  AIC:               </th> <td>1.481e+04</td>\n",
       "</tr>\n",
       "<tr>\n",
       "  <th>Df Residuals:</th>          <td>   821</td>      <th>  BIC:               </th> <td>1.485e+04</td>\n",
       "</tr>\n",
       "<tr>\n",
       "  <th>Df Model:</th>              <td>     8</td>      <th>                     </th>     <td> </td>    \n",
       "</tr>\n",
       "<tr>\n",
       "  <th>Covariance Type:</th>      <td>nonrobust</td>    <th>                     </th>     <td> </td>    \n",
       "</tr>\n",
       "</table>\n",
       "<table class=\"simpletable\">\n",
       "<tr>\n",
       "                  <td></td>                    <th>coef</th>     <th>std err</th>      <th>t</th>      <th>P>|t|</th>  <th>[0.025</th>    <th>0.975]</th>  \n",
       "</tr>\n",
       "<tr>\n",
       "  <th>Intercept</th>                        <td> 1452.6829</td> <td>  208.528</td> <td>    6.966</td> <td> 0.000</td> <td> 1043.372</td> <td> 1861.994</td>\n",
       "</tr>\n",
       "<tr>\n",
       "  <th>C(ShipRegion)[T.Central America]</th> <td> -610.4658</td> <td>  399.948</td> <td>   -1.526</td> <td> 0.127</td> <td>-1395.508</td> <td>  174.576</td>\n",
       "</tr>\n",
       "<tr>\n",
       "  <th>C(ShipRegion)[T.Eastern Europe]</th>  <td> -948.1186</td> <td>  713.711</td> <td>   -1.328</td> <td> 0.184</td> <td>-2349.031</td> <td>  452.794</td>\n",
       "</tr>\n",
       "<tr>\n",
       "  <th>C(ShipRegion)[T.North America]</th>   <td>  493.2441</td> <td>  254.833</td> <td>    1.936</td> <td> 0.053</td> <td>   -6.957</td> <td>  993.445</td>\n",
       "</tr>\n",
       "<tr>\n",
       "  <th>C(ShipRegion)[T.Northern Europe]</th> <td>  131.9746</td> <td>  320.593</td> <td>    0.412</td> <td> 0.681</td> <td> -497.305</td> <td>  761.254</td>\n",
       "</tr>\n",
       "<tr>\n",
       "  <th>C(ShipRegion)[T.Scandinavia]</th>     <td> -576.0685</td> <td>  399.948</td> <td>   -1.440</td> <td> 0.150</td> <td>-1361.110</td> <td>  208.973</td>\n",
       "</tr>\n",
       "<tr>\n",
       "  <th>C(ShipRegion)[T.South America]</th>   <td> -267.4725</td> <td>  256.857</td> <td>   -1.041</td> <td> 0.298</td> <td> -771.647</td> <td>  236.702</td>\n",
       "</tr>\n",
       "<tr>\n",
       "  <th>C(ShipRegion)[T.Southern Europe]</th> <td> -746.0310</td> <td>  307.314</td> <td>   -2.428</td> <td> 0.015</td> <td>-1349.244</td> <td> -142.818</td>\n",
       "</tr>\n",
       "<tr>\n",
       "  <th>C(ShipRegion)[T.Western Europe]</th>  <td>  377.6226</td> <td>  235.160</td> <td>    1.606</td> <td> 0.109</td> <td>  -83.963</td> <td>  839.208</td>\n",
       "</tr>\n",
       "</table>\n",
       "<table class=\"simpletable\">\n",
       "<tr>\n",
       "  <th>Omnibus:</th>       <td>647.062</td> <th>  Durbin-Watson:     </th> <td>   2.036</td> \n",
       "</tr>\n",
       "<tr>\n",
       "  <th>Prob(Omnibus):</th> <td> 0.000</td>  <th>  Jarque-Bera (JB):  </th> <td>12340.531</td>\n",
       "</tr>\n",
       "<tr>\n",
       "  <th>Skew:</th>          <td> 3.448</td>  <th>  Prob(JB):          </th> <td>    0.00</td> \n",
       "</tr>\n",
       "<tr>\n",
       "  <th>Kurtosis:</th>      <td>20.587</td>  <th>  Cond. No.          </th> <td>    13.4</td> \n",
       "</tr>\n",
       "</table><br/><br/>Warnings:<br/>[1] Standard Errors assume that the covariance matrix of the errors is correctly specified."
      ],
      "text/plain": [
       "<class 'statsmodels.iolib.summary.Summary'>\n",
       "\"\"\"\n",
       "                            OLS Regression Results                            \n",
       "==============================================================================\n",
       "Dep. Variable:                Revenue   R-squared:                       0.051\n",
       "Model:                            OLS   Adj. R-squared:                  0.042\n",
       "Method:                 Least Squares   F-statistic:                     5.556\n",
       "Date:                Mon, 22 Apr 2019   Prob (F-statistic):           7.24e-07\n",
       "Time:                        17:42:54   Log-Likelihood:                -7397.2\n",
       "No. Observations:                 830   AIC:                         1.481e+04\n",
       "Df Residuals:                     821   BIC:                         1.485e+04\n",
       "Df Model:                           8                                         \n",
       "Covariance Type:            nonrobust                                         \n",
       "====================================================================================================\n",
       "                                       coef    std err          t      P>|t|      [0.025      0.975]\n",
       "----------------------------------------------------------------------------------------------------\n",
       "Intercept                         1452.6829    208.528      6.966      0.000    1043.372    1861.994\n",
       "C(ShipRegion)[T.Central America]  -610.4658    399.948     -1.526      0.127   -1395.508     174.576\n",
       "C(ShipRegion)[T.Eastern Europe]   -948.1186    713.711     -1.328      0.184   -2349.031     452.794\n",
       "C(ShipRegion)[T.North America]     493.2441    254.833      1.936      0.053      -6.957     993.445\n",
       "C(ShipRegion)[T.Northern Europe]   131.9746    320.593      0.412      0.681    -497.305     761.254\n",
       "C(ShipRegion)[T.Scandinavia]      -576.0685    399.948     -1.440      0.150   -1361.110     208.973\n",
       "C(ShipRegion)[T.South America]    -267.4725    256.857     -1.041      0.298    -771.647     236.702\n",
       "C(ShipRegion)[T.Southern Europe]  -746.0310    307.314     -2.428      0.015   -1349.244    -142.818\n",
       "C(ShipRegion)[T.Western Europe]    377.6226    235.160      1.606      0.109     -83.963     839.208\n",
       "==============================================================================\n",
       "Omnibus:                      647.062   Durbin-Watson:                   2.036\n",
       "Prob(Omnibus):                  0.000   Jarque-Bera (JB):            12340.531\n",
       "Skew:                           3.448   Prob(JB):                         0.00\n",
       "Kurtosis:                      20.587   Cond. No.                         13.4\n",
       "==============================================================================\n",
       "\n",
       "Warnings:\n",
       "[1] Standard Errors assume that the covariance matrix of the errors is correctly specified.\n",
       "\"\"\""
      ]
     },
     "execution_count": 44,
     "metadata": {},
     "output_type": "execute_result"
    }
   ],
   "source": [
    "lm2.summary()"
   ]
  },
  {
   "cell_type": "markdown",
   "metadata": {},
   "source": [
    "#### Effect Size"
   ]
  },
  {
   "cell_type": "code",
   "execution_count": 45,
   "metadata": {
    "scrolled": false
   },
   "outputs": [
    {
     "data": {
      "text/plain": [
       "0.054139984086421365"
      ]
     },
     "execution_count": 45,
     "metadata": {},
     "output_type": "execute_result"
    }
   ],
   "source": [
    "# Calculate Eta-squared\n",
    "table2['sum_sq']['C(ShipRegion)'] / table2['sum_sq']['Residual']"
   ]
  },
  {
   "cell_type": "markdown",
   "metadata": {},
   "source": [
    "#### Tukey's Range Test"
   ]
  },
  {
   "cell_type": "code",
   "execution_count": 46,
   "metadata": {},
   "outputs": [
    {
     "name": "stdout",
     "output_type": "stream",
     "text": [
      "          Multiple Comparison of Means - Tukey HSD,FWER=0.05          \n",
      "======================================================================\n",
      "     group1          group2      meandiff    lower      upper   reject\n",
      "----------------------------------------------------------------------\n",
      " British Isles  Central America -610.4658  -1854.3302  633.3986 False \n",
      " British Isles   Eastern Europe -948.1186  -3167.8036 1271.5664 False \n",
      " British Isles   North America   493.2441  -299.3021  1285.7903 False \n",
      " British Isles  Northern Europe  131.9746  -865.0911  1129.0403 False \n",
      " British Isles    Scandinavia   -576.0685  -1819.9329  667.7959 False \n",
      " British Isles   South America  -267.4725  -1066.3143  531.3693 False \n",
      " British Isles  Southern Europe  -746.031  -1701.7955  209.7334 False \n",
      " British Isles   Western Europe  377.6226  -353.7395  1108.9847 False \n",
      "Central America  Eastern Europe -337.6528  -2711.048  2035.7425 False \n",
      "Central America  North America  1103.7099   -51.3367  2258.7566 False \n",
      "Central America Northern Europe  742.4404   -561.455  2046.3359 False \n",
      "Central America   Scandinavia    34.3973   -1466.6696 1535.4643 False \n",
      "Central America  South America   342.9933  -816.3822  1502.3688 False \n",
      "Central America Southern Europe -135.5652  -1408.1566 1137.0262 False \n",
      "Central America  Western Europe  988.0884  -125.8657  2102.0426 False \n",
      " Eastern Europe  North America  1441.3627  -729.7973  3612.5227 False \n",
      " Eastern Europe Northern Europe 1080.0932  -1173.7804 3333.9668 False \n",
      " Eastern Europe   Scandinavia    372.0501  -2001.3451 2745.4453 False \n",
      " Eastern Europe  South America   680.6461  -1492.8199 2854.1121 False \n",
      " Eastern Europe Southern Europe  202.0876  -2033.8221 2437.9972 False \n",
      " Eastern Europe  Western Europe 1325.7412  -823.8394  3475.3218 False \n",
      " North America  Northern Europe -361.2695  -1245.0534  522.5145 False \n",
      " North America    Scandinavia   -1069.3126 -2224.3592   85.734  False \n",
      " North America   South America  -760.7166  -1412.6999 -108.7332  True \n",
      " North America  Southern Europe -1239.2751 -2076.1859 -402.3643  True \n",
      " North America   Western Europe -115.6215  -682.9174   451.6744 False \n",
      "Northern Europe   Scandinavia   -708.0431  -2011.9386  595.8523 False \n",
      "Northern Europe  South America  -399.4471  -1288.8811  489.9869 False \n",
      "Northern Europe Southern Europe -878.0057  -1910.6868  154.6754 False \n",
      "Northern Europe  Western Europe  245.648   -583.7103  1075.0063 False \n",
      "  Scandinavia    South America   308.596   -850.7795  1467.9715 False \n",
      "  Scandinavia   Southern Europe -169.9625  -1442.554  1102.6289 False \n",
      "  Scandinavia    Western Europe  953.6911  -160.2631  2067.6452 False \n",
      " South America  Southern Europe -478.5585  -1321.4337  364.3166 False \n",
      " South America   Western Europe  645.0951   69.0366   1221.1536  True \n",
      "Southern Europe  Western Europe 1123.6536   344.4356  1902.8717  True \n",
      "----------------------------------------------------------------------\n"
     ]
    }
   ],
   "source": [
    "from statsmodels.stats.multicomp import pairwise_tukeyhsd\n",
    "\n",
    "tukey_results = pairwise_tukeyhsd(ordrevs.Revenue, ordrevs.ShipRegion, 0.05)\n",
    "print(tukey_results)"
   ]
  },
  {
   "cell_type": "markdown",
   "metadata": {},
   "source": [
    "**Interpreting the Results:** The ANOVA test returns a low p-value, allowing us to reject the null hypothesis. Certain regions do seem to purchase more expensive orders than others do. From the Tukey's Range Test, we can specifically see that the significant differences exist between North America and South America, North America and Southern Europe, Western Europe and South America, and Western Europe and Southern Europe. The R-squared value and effect size are very low, indicating that region on its own would not be a good indicator in predicting net revenue for orders. I believe that is due to how few regions actually have a significant difference in order price. The average net revenue generated per order for each region can be seen in the charts and diagrams above.\n",
    "\n",
    "I am curious to see the comparison between average net revenue per order and the number of orders that have been record for each region, to see if there might be some regions Northwind should focus on marketing more toward. I scaled it slightly to get a more helpful comparison."
   ]
  },
  {
   "cell_type": "code",
   "execution_count": 47,
   "metadata": {},
   "outputs": [],
   "source": [
    "regstats = []\n",
    "\n",
    "for r in regions:\n",
    "    df_r = ordrevs[ordrevs.ShipRegion==r]\n",
    "    avgrev = round(df_r[\"Revenue\"].mean(),2)\n",
    "    numorders = len(ordrevs[ordrevs.ShipRegion==r])\n",
    "    regstats.append([avgrev,numorders])"
   ]
  },
  {
   "cell_type": "code",
   "execution_count": 48,
   "metadata": {},
   "outputs": [],
   "source": [
    "reg_df = pd.DataFrame(regstats)\n",
    "reg_df['Region'] = regions\n",
    "reg_df.columns = ['AvgRevPerOrder','NumberOfOrders','Region']\n",
    "reg_df = reg_df[['Region','AvgRevPerOrder','NumberOfOrders']].sort_values(\"Region\")"
   ]
  },
  {
   "cell_type": "code",
   "execution_count": 49,
   "metadata": {},
   "outputs": [
    {
     "data": {
      "text/html": [
       "<div>\n",
       "<style scoped>\n",
       "    .dataframe tbody tr th:only-of-type {\n",
       "        vertical-align: middle;\n",
       "    }\n",
       "\n",
       "    .dataframe tbody tr th {\n",
       "        vertical-align: top;\n",
       "    }\n",
       "\n",
       "    .dataframe thead th {\n",
       "        text-align: right;\n",
       "    }\n",
       "</style>\n",
       "<table border=\"1\" class=\"dataframe\">\n",
       "  <thead>\n",
       "    <tr style=\"text-align: right;\">\n",
       "      <th></th>\n",
       "      <th>Region</th>\n",
       "      <th>AvgRevPerOrder</th>\n",
       "      <th>NumberOfOrders</th>\n",
       "      <th>ScaledNumOrders</th>\n",
       "      <th>ScaledAvgRev</th>\n",
       "    </tr>\n",
       "  </thead>\n",
       "  <tbody>\n",
       "    <tr>\n",
       "      <th>7</th>\n",
       "      <td>British Isles</td>\n",
       "      <td>1452.68</td>\n",
       "      <td>75</td>\n",
       "      <td>0.252788</td>\n",
       "      <td>0.657791</td>\n",
       "    </tr>\n",
       "    <tr>\n",
       "      <th>2</th>\n",
       "      <td>Central America</td>\n",
       "      <td>842.22</td>\n",
       "      <td>28</td>\n",
       "      <td>0.078067</td>\n",
       "      <td>0.234263</td>\n",
       "    </tr>\n",
       "    <tr>\n",
       "      <th>8</th>\n",
       "      <td>Eastern Europe</td>\n",
       "      <td>504.56</td>\n",
       "      <td>7</td>\n",
       "      <td>0.000000</td>\n",
       "      <td>0.000000</td>\n",
       "    </tr>\n",
       "    <tr>\n",
       "      <th>3</th>\n",
       "      <td>North America</td>\n",
       "      <td>1945.93</td>\n",
       "      <td>152</td>\n",
       "      <td>0.539033</td>\n",
       "      <td>1.000000</td>\n",
       "    </tr>\n",
       "    <tr>\n",
       "      <th>4</th>\n",
       "      <td>Northern Europe</td>\n",
       "      <td>1584.66</td>\n",
       "      <td>55</td>\n",
       "      <td>0.178439</td>\n",
       "      <td>0.749357</td>\n",
       "    </tr>\n",
       "    <tr>\n",
       "      <th>5</th>\n",
       "      <td>Scandinavia</td>\n",
       "      <td>876.61</td>\n",
       "      <td>28</td>\n",
       "      <td>0.078067</td>\n",
       "      <td>0.258122</td>\n",
       "    </tr>\n",
       "    <tr>\n",
       "      <th>1</th>\n",
       "      <td>South America</td>\n",
       "      <td>1185.21</td>\n",
       "      <td>145</td>\n",
       "      <td>0.513011</td>\n",
       "      <td>0.472224</td>\n",
       "    </tr>\n",
       "    <tr>\n",
       "      <th>6</th>\n",
       "      <td>Southern Europe</td>\n",
       "      <td>706.65</td>\n",
       "      <td>64</td>\n",
       "      <td>0.211896</td>\n",
       "      <td>0.140207</td>\n",
       "    </tr>\n",
       "    <tr>\n",
       "      <th>0</th>\n",
       "      <td>Western Europe</td>\n",
       "      <td>1830.31</td>\n",
       "      <td>276</td>\n",
       "      <td>1.000000</td>\n",
       "      <td>0.919785</td>\n",
       "    </tr>\n",
       "  </tbody>\n",
       "</table>\n",
       "</div>"
      ],
      "text/plain": [
       "            Region  AvgRevPerOrder  NumberOfOrders  ScaledNumOrders  \\\n",
       "7    British Isles         1452.68              75         0.252788   \n",
       "2  Central America          842.22              28         0.078067   \n",
       "8   Eastern Europe          504.56               7         0.000000   \n",
       "3    North America         1945.93             152         0.539033   \n",
       "4  Northern Europe         1584.66              55         0.178439   \n",
       "5      Scandinavia          876.61              28         0.078067   \n",
       "1    South America         1185.21             145         0.513011   \n",
       "6  Southern Europe          706.65              64         0.211896   \n",
       "0   Western Europe         1830.31             276         1.000000   \n",
       "\n",
       "   ScaledAvgRev  \n",
       "7      0.657791  \n",
       "2      0.234263  \n",
       "8      0.000000  \n",
       "3      1.000000  \n",
       "4      0.749357  \n",
       "5      0.258122  \n",
       "1      0.472224  \n",
       "6      0.140207  \n",
       "0      0.919785  "
      ]
     },
     "execution_count": 49,
     "metadata": {},
     "output_type": "execute_result"
    }
   ],
   "source": [
    "mn, mx = reg_df[\"NumberOfOrders\"].min(), reg_df[\"NumberOfOrders\"].max()\n",
    "reg_df[\"ScaledNumOrders\"] = (reg_df[\"NumberOfOrders\"]-mn) / (mx-mn)\n",
    "\n",
    "mn2, mx2 = reg_df[\"AvgRevPerOrder\"].min(), reg_df[\"AvgRevPerOrder\"].max()\n",
    "reg_df[\"ScaledAvgRev\"] = (reg_df[\"AvgRevPerOrder\"]-mn2) / (mx2-mn2)\n",
    "\n",
    "reg_df"
   ]
  },
  {
   "cell_type": "code",
   "execution_count": 50,
   "metadata": {},
   "outputs": [
    {
     "data": {
      "image/png": "[encoded data removed]",
      "text/plain": [
       "<Figure size 864x432 with 1 Axes>"
      ]
     },
     "metadata": {},
     "output_type": "display_data"
    }
   ],
   "source": [
    "plt.figure(figsize=(12,6))\n",
    "\n",
    "for i in regions:\n",
    "    y1 = round(reg_df[reg_df.Region==i][\"ScaledNumOrders\"].mean(),3)\n",
    "    y2 = round(reg_df[reg_df.Region==i][\"ScaledAvgRev\"].mean(),2)\n",
    "    plt.bar(i, (y1,y2), alpha=0.25)\n",
    "    plt.bar(i, (y1,y2), alpha=0.25)\n",
    "    plt.text(i, y1*1.015, str(f'{y1}'))\n",
    "    plt.text(i, y2*1.015, str(f'$ scaled'))\n",
    "    \n",
    "plt.title('Order Volume and Average Net Revenue Per Order by Region')\n",
    "plt.xlabel('Region')\n",
    "plt.ylabel('Number of Orders / Average Net Revenue Per Order')\n",
    "plt.xticks(rotation=45)\n",
    "\n",
    "plt.show()"
   ]
  },
  {
   "cell_type": "markdown",
   "metadata": {},
   "source": [
    "From a glance, some observations can be made about the relationship between the order volume and the average price per order for each region that Northwind ships to. Western Europe has been a great region for business, as they spend tend a relatively high amount per order compared to other regions, and they have made the most orders.\n",
    "\n",
    "North America on average spends the most on each order, however they account for just over half as many orders as Western Europe does. Northern Europe similarly spends the next highest amount per order, but they account for far fewer of the recorded sales."
   ]
  },
  {
   "cell_type": "markdown",
   "metadata": {},
   "source": [
    "***\n",
    "\n",
    "## Question 4: Is employee age related to productivity?\n",
    "\n",
    "### Does the number of sales per year vary by the age of the employees?\n",
    "\n",
    "**H<sub>0</sub>:** The average number of sales per year is the same for all employee ages.\n",
    "\n",
    "**H<sub>a</sub>:** There is a significant difference in the number of sales per year for employees of different ages.\n",
    "\n",
    "This will be an ANOVA test, as we will be testing the relationship between various employee ages and the average number of sales per year."
   ]
  },
  {
   "cell_type": "code",
   "execution_count": 51,
   "metadata": {
    "scrolled": true
   },
   "outputs": [
    {
     "data": {
      "text/html": [
       "<div>\n",
       "<style scoped>\n",
       "    .dataframe tbody tr th:only-of-type {\n",
       "        vertical-align: middle;\n",
       "    }\n",
       "\n",
       "    .dataframe tbody tr th {\n",
       "        vertical-align: top;\n",
       "    }\n",
       "\n",
       "    .dataframe thead th {\n",
       "        text-align: right;\n",
       "    }\n",
       "</style>\n",
       "<table border=\"1\" class=\"dataframe\">\n",
       "  <thead>\n",
       "    <tr style=\"text-align: right;\">\n",
       "      <th></th>\n",
       "      <th>Id</th>\n",
       "      <th>LastName</th>\n",
       "      <th>FirstName</th>\n",
       "      <th>Title</th>\n",
       "      <th>TitleOfCourtesy</th>\n",
       "      <th>BirthDate</th>\n",
       "      <th>HireDate</th>\n",
       "      <th>Address</th>\n",
       "      <th>City</th>\n",
       "      <th>Region</th>\n",
       "      <th>PostalCode</th>\n",
       "      <th>Country</th>\n",
       "      <th>HomePhone</th>\n",
       "      <th>Extension</th>\n",
       "      <th>Photo</th>\n",
       "      <th>Notes</th>\n",
       "      <th>ReportsTo</th>\n",
       "      <th>PhotoPath</th>\n",
       "    </tr>\n",
       "  </thead>\n",
       "  <tbody>\n",
       "    <tr>\n",
       "      <th>0</th>\n",
       "      <td>1</td>\n",
       "      <td>Davolio</td>\n",
       "      <td>Nancy</td>\n",
       "      <td>Sales Representative</td>\n",
       "      <td>Ms.</td>\n",
       "      <td>1980-12-08</td>\n",
       "      <td>2024-05-01</td>\n",
       "      <td>507 - 20th Ave. E. Apt. 2A</td>\n",
       "      <td>Seattle</td>\n",
       "      <td>North America</td>\n",
       "      <td>98122</td>\n",
       "      <td>USA</td>\n",
       "      <td>(206) 555-9857</td>\n",
       "      <td>5467</td>\n",
       "      <td>None</td>\n",
       "      <td>Education includes a BA in psychology from Col...</td>\n",
       "      <td>2.0</td>\n",
       "      <td>http://accweb/emmployees/davolio.bmp</td>\n",
       "    </tr>\n",
       "    <tr>\n",
       "      <th>1</th>\n",
       "      <td>2</td>\n",
       "      <td>Fuller</td>\n",
       "      <td>Andrew</td>\n",
       "      <td>Vice President, Sales</td>\n",
       "      <td>Dr.</td>\n",
       "      <td>1984-02-19</td>\n",
       "      <td>2024-08-14</td>\n",
       "      <td>908 W. Capital Way</td>\n",
       "      <td>Tacoma</td>\n",
       "      <td>North America</td>\n",
       "      <td>98401</td>\n",
       "      <td>USA</td>\n",
       "      <td>(206) 555-9482</td>\n",
       "      <td>3457</td>\n",
       "      <td>None</td>\n",
       "      <td>Andrew received his BTS commercial in 1974 and...</td>\n",
       "      <td>NaN</td>\n",
       "      <td>http://accweb/emmployees/fuller.bmp</td>\n",
       "    </tr>\n",
       "    <tr>\n",
       "      <th>2</th>\n",
       "      <td>3</td>\n",
       "      <td>Leverling</td>\n",
       "      <td>Janet</td>\n",
       "      <td>Sales Representative</td>\n",
       "      <td>Ms.</td>\n",
       "      <td>1995-08-30</td>\n",
       "      <td>2024-04-01</td>\n",
       "      <td>722 Moss Bay Blvd.</td>\n",
       "      <td>Kirkland</td>\n",
       "      <td>North America</td>\n",
       "      <td>98033</td>\n",
       "      <td>USA</td>\n",
       "      <td>(206) 555-3412</td>\n",
       "      <td>3355</td>\n",
       "      <td>None</td>\n",
       "      <td>Janet has a BS degree in chemistry from Boston...</td>\n",
       "      <td>2.0</td>\n",
       "      <td>http://accweb/emmployees/leverling.bmp</td>\n",
       "    </tr>\n",
       "    <tr>\n",
       "      <th>3</th>\n",
       "      <td>4</td>\n",
       "      <td>Peacock</td>\n",
       "      <td>Margaret</td>\n",
       "      <td>Sales Representative</td>\n",
       "      <td>Mrs.</td>\n",
       "      <td>1969-09-19</td>\n",
       "      <td>2025-05-03</td>\n",
       "      <td>4110 Old Redmond Rd.</td>\n",
       "      <td>Redmond</td>\n",
       "      <td>North America</td>\n",
       "      <td>98052</td>\n",
       "      <td>USA</td>\n",
       "      <td>(206) 555-8122</td>\n",
       "      <td>5176</td>\n",
       "      <td>None</td>\n",
       "      <td>Margaret holds a BA in English literature from...</td>\n",
       "      <td>2.0</td>\n",
       "      <td>http://accweb/emmployees/peacock.bmp</td>\n",
       "    </tr>\n",
       "    <tr>\n",
       "      <th>4</th>\n",
       "      <td>5</td>\n",
       "      <td>Buchanan</td>\n",
       "      <td>Steven</td>\n",
       "      <td>Sales Manager</td>\n",
       "      <td>Mr.</td>\n",
       "      <td>1987-03-04</td>\n",
       "      <td>2025-10-17</td>\n",
       "      <td>14 Garrett Hill</td>\n",
       "      <td>London</td>\n",
       "      <td>British Isles</td>\n",
       "      <td>SW1 8JR</td>\n",
       "      <td>UK</td>\n",
       "      <td>(71) 555-4848</td>\n",
       "      <td>3453</td>\n",
       "      <td>None</td>\n",
       "      <td>Steven Buchanan graduated from St. Andrews Uni...</td>\n",
       "      <td>2.0</td>\n",
       "      <td>http://accweb/emmployees/buchanan.bmp</td>\n",
       "    </tr>\n",
       "  </tbody>\n",
       "</table>\n",
       "</div>"
      ],
      "text/plain": [
       "   Id   LastName FirstName                  Title TitleOfCourtesy   BirthDate  \\\n",
       "0   1    Davolio     Nancy   Sales Representative             Ms.  1980-12-08   \n",
       "1   2     Fuller    Andrew  Vice President, Sales             Dr.  1984-02-19   \n",
       "2   3  Leverling     Janet   Sales Representative             Ms.  1995-08-30   \n",
       "3   4    Peacock  Margaret   Sales Representative            Mrs.  1969-09-19   \n",
       "4   5   Buchanan    Steven          Sales Manager             Mr.  1987-03-04   \n",
       "\n",
       "     HireDate                     Address      City         Region PostalCode  \\\n",
       "0  2024-05-01  507 - 20th Ave. E. Apt. 2A   Seattle  North America      98122   \n",
       "1  2024-08-14          908 W. Capital Way    Tacoma  North America      98401   \n",
       "2  2024-04-01          722 Moss Bay Blvd.  Kirkland  North America      98033   \n",
       "3  2025-05-03        4110 Old Redmond Rd.   Redmond  North America      98052   \n",
       "4  2025-10-17             14 Garrett Hill    London  British Isles    SW1 8JR   \n",
       "\n",
       "  Country       HomePhone Extension Photo  \\\n",
       "0     USA  (206) 555-9857      5467  None   \n",
       "1     USA  (206) 555-9482      3457  None   \n",
       "2     USA  (206) 555-3412      3355  None   \n",
       "3     USA  (206) 555-8122      5176  None   \n",
       "4      UK   (71) 555-4848      3453  None   \n",
       "\n",
       "                                               Notes  ReportsTo  \\\n",
       "0  Education includes a BA in psychology from Col...        2.0   \n",
       "1  Andrew received his BTS commercial in 1974 and...        NaN   \n",
       "2  Janet has a BS degree in chemistry from Boston...        2.0   \n",
       "3  Margaret holds a BA in English literature from...        2.0   \n",
       "4  Steven Buchanan graduated from St. Andrews Uni...        2.0   \n",
       "\n",
       "                                PhotoPath  \n",
       "0    http://accweb/emmployees/davolio.bmp  \n",
       "1     http://accweb/emmployees/fuller.bmp  \n",
       "2  http://accweb/emmployees/leverling.bmp  \n",
       "3    http://accweb/emmployees/peacock.bmp  \n",
       "4   http://accweb/emmployees/buchanan.bmp  "
      ]
     },
     "execution_count": 51,
     "metadata": {},
     "output_type": "execute_result"
    }
   ],
   "source": [
    "employees.head()"
   ]
  },
  {
   "cell_type": "code",
   "execution_count": 52,
   "metadata": {},
   "outputs": [
    {
     "data": {
      "text/html": [
       "<div>\n",
       "<style scoped>\n",
       "    .dataframe tbody tr th:only-of-type {\n",
       "        vertical-align: middle;\n",
       "    }\n",
       "\n",
       "    .dataframe tbody tr th {\n",
       "        vertical-align: top;\n",
       "    }\n",
       "\n",
       "    .dataframe thead th {\n",
       "        text-align: right;\n",
       "    }\n",
       "</style>\n",
       "<table border=\"1\" class=\"dataframe\">\n",
       "  <thead>\n",
       "    <tr style=\"text-align: right;\">\n",
       "      <th></th>\n",
       "      <th>Id</th>\n",
       "      <th>BirthDate</th>\n",
       "      <th>BirthYear</th>\n",
       "    </tr>\n",
       "  </thead>\n",
       "  <tbody>\n",
       "    <tr>\n",
       "      <th>0</th>\n",
       "      <td>1</td>\n",
       "      <td>1980-12-08</td>\n",
       "      <td>1980</td>\n",
       "    </tr>\n",
       "    <tr>\n",
       "      <th>1</th>\n",
       "      <td>2</td>\n",
       "      <td>1984-02-19</td>\n",
       "      <td>1984</td>\n",
       "    </tr>\n",
       "    <tr>\n",
       "      <th>2</th>\n",
       "      <td>3</td>\n",
       "      <td>1995-08-30</td>\n",
       "      <td>1995</td>\n",
       "    </tr>\n",
       "    <tr>\n",
       "      <th>3</th>\n",
       "      <td>4</td>\n",
       "      <td>1969-09-19</td>\n",
       "      <td>1969</td>\n",
       "    </tr>\n",
       "    <tr>\n",
       "      <th>4</th>\n",
       "      <td>5</td>\n",
       "      <td>1987-03-04</td>\n",
       "      <td>1987</td>\n",
       "    </tr>\n",
       "    <tr>\n",
       "      <th>5</th>\n",
       "      <td>6</td>\n",
       "      <td>1995-07-02</td>\n",
       "      <td>1995</td>\n",
       "    </tr>\n",
       "    <tr>\n",
       "      <th>6</th>\n",
       "      <td>7</td>\n",
       "      <td>1992-05-29</td>\n",
       "      <td>1992</td>\n",
       "    </tr>\n",
       "    <tr>\n",
       "      <th>7</th>\n",
       "      <td>8</td>\n",
       "      <td>1990-01-09</td>\n",
       "      <td>1990</td>\n",
       "    </tr>\n",
       "    <tr>\n",
       "      <th>8</th>\n",
       "      <td>9</td>\n",
       "      <td>1998-01-27</td>\n",
       "      <td>1998</td>\n",
       "    </tr>\n",
       "  </tbody>\n",
       "</table>\n",
       "</div>"
      ],
      "text/plain": [
       "   Id  BirthDate  BirthYear\n",
       "0   1 1980-12-08       1980\n",
       "1   2 1984-02-19       1984\n",
       "2   3 1995-08-30       1995\n",
       "3   4 1969-09-19       1969\n",
       "4   5 1987-03-04       1987\n",
       "5   6 1995-07-02       1995\n",
       "6   7 1992-05-29       1992\n",
       "7   8 1990-01-09       1990\n",
       "8   9 1998-01-27       1998"
      ]
     },
     "execution_count": 52,
     "metadata": {},
     "output_type": "execute_result"
    }
   ],
   "source": [
    "# Collecting the birthdate for each employee and changing to datetime format\n",
    "\n",
    "emp_ages = employees[[\"Id\",\"BirthDate\"]]\n",
    "emp_ages['BirthDate'] = pd.to_datetime(emp_ages['BirthDate'])\n",
    "emp_ages['BirthYear'] = emp_ages['BirthDate'].dt.year\n",
    "\n",
    "\n",
    "emp_ages"
   ]
  },
  {
   "cell_type": "code",
   "execution_count": 53,
   "metadata": {},
   "outputs": [
    {
     "data": {
      "text/html": [
       "<div>\n",
       "<style scoped>\n",
       "    .dataframe tbody tr th:only-of-type {\n",
       "        vertical-align: middle;\n",
       "    }\n",
       "\n",
       "    .dataframe tbody tr th {\n",
       "        vertical-align: top;\n",
       "    }\n",
       "\n",
       "    .dataframe thead th {\n",
       "        text-align: right;\n",
       "    }\n",
       "</style>\n",
       "<table border=\"1\" class=\"dataframe\">\n",
       "  <thead>\n",
       "    <tr style=\"text-align: right;\">\n",
       "      <th></th>\n",
       "      <th>Id</th>\n",
       "      <th>Age</th>\n",
       "    </tr>\n",
       "  </thead>\n",
       "  <tbody>\n",
       "    <tr>\n",
       "      <th>0</th>\n",
       "      <td>1</td>\n",
       "      <td>39.0</td>\n",
       "    </tr>\n",
       "    <tr>\n",
       "      <th>1</th>\n",
       "      <td>2</td>\n",
       "      <td>35.0</td>\n",
       "    </tr>\n",
       "    <tr>\n",
       "      <th>2</th>\n",
       "      <td>3</td>\n",
       "      <td>24.0</td>\n",
       "    </tr>\n",
       "    <tr>\n",
       "      <th>3</th>\n",
       "      <td>4</td>\n",
       "      <td>50.0</td>\n",
       "    </tr>\n",
       "    <tr>\n",
       "      <th>4</th>\n",
       "      <td>5</td>\n",
       "      <td>32.0</td>\n",
       "    </tr>\n",
       "    <tr>\n",
       "      <th>5</th>\n",
       "      <td>6</td>\n",
       "      <td>24.0</td>\n",
       "    </tr>\n",
       "    <tr>\n",
       "      <th>6</th>\n",
       "      <td>7</td>\n",
       "      <td>27.0</td>\n",
       "    </tr>\n",
       "    <tr>\n",
       "      <th>7</th>\n",
       "      <td>8</td>\n",
       "      <td>29.0</td>\n",
       "    </tr>\n",
       "    <tr>\n",
       "      <th>8</th>\n",
       "      <td>9</td>\n",
       "      <td>21.0</td>\n",
       "    </tr>\n",
       "  </tbody>\n",
       "</table>\n",
       "</div>"
      ],
      "text/plain": [
       "   Id   Age\n",
       "0   1  39.0\n",
       "1   2  35.0\n",
       "2   3  24.0\n",
       "3   4  50.0\n",
       "4   5  32.0\n",
       "5   6  24.0\n",
       "6   7  27.0\n",
       "7   8  29.0\n",
       "8   9  21.0"
      ]
     },
     "execution_count": 53,
     "metadata": {},
     "output_type": "execute_result"
    }
   ],
   "source": [
    "# Calculating age for each employee, from birth year\n",
    "\n",
    "emp_ages['Age']=np.ones(9)\n",
    "for i in range(0,9):\n",
    "    emp_ages['Age'][i] = 2019-emp_ages['BirthYear'][i]\n",
    "emp_ages = emp_ages[[\"Id\",\"Age\"]]\n",
    "emp_ages"
   ]
  },
  {
   "cell_type": "code",
   "execution_count": 54,
   "metadata": {},
   "outputs": [],
   "source": [
    "# Collecting data on orders by employee. Changing shipped date to datetime format\n",
    "\n",
    "emp_orders = orders[[\"Id\",\"EmployeeId\",\"ShippedDate\"]]\n",
    "emp_orders['ShippedDate'] = pd.to_datetime(emp_orders['ShippedDate'])\n",
    "emp_orders['ShippedYear'] = emp_orders['ShippedDate'].dt.year"
   ]
  },
  {
   "cell_type": "code",
   "execution_count": 55,
   "metadata": {},
   "outputs": [
    {
     "data": {
      "text/html": [
       "<div>\n",
       "<style scoped>\n",
       "    .dataframe tbody tr th:only-of-type {\n",
       "        vertical-align: middle;\n",
       "    }\n",
       "\n",
       "    .dataframe tbody tr th {\n",
       "        vertical-align: top;\n",
       "    }\n",
       "\n",
       "    .dataframe thead th {\n",
       "        text-align: right;\n",
       "    }\n",
       "</style>\n",
       "<table border=\"1\" class=\"dataframe\">\n",
       "  <thead>\n",
       "    <tr style=\"text-align: right;\">\n",
       "      <th></th>\n",
       "      <th>EmployeeId</th>\n",
       "      <th>ShippedYear</th>\n",
       "    </tr>\n",
       "  </thead>\n",
       "  <tbody>\n",
       "    <tr>\n",
       "      <th>139</th>\n",
       "      <td>1</td>\n",
       "      <td>2012.0</td>\n",
       "    </tr>\n",
       "    <tr>\n",
       "      <th>587</th>\n",
       "      <td>1</td>\n",
       "      <td>2014.0</td>\n",
       "    </tr>\n",
       "    <tr>\n",
       "      <th>586</th>\n",
       "      <td>1</td>\n",
       "      <td>2014.0</td>\n",
       "    </tr>\n",
       "    <tr>\n",
       "      <th>145</th>\n",
       "      <td>1</td>\n",
       "      <td>2013.0</td>\n",
       "    </tr>\n",
       "    <tr>\n",
       "      <th>146</th>\n",
       "      <td>1</td>\n",
       "      <td>2013.0</td>\n",
       "    </tr>\n",
       "  </tbody>\n",
       "</table>\n",
       "</div>"
      ],
      "text/plain": [
       "     EmployeeId  ShippedYear\n",
       "139           1       2012.0\n",
       "587           1       2014.0\n",
       "586           1       2014.0\n",
       "145           1       2013.0\n",
       "146           1       2013.0"
      ]
     },
     "execution_count": 55,
     "metadata": {},
     "output_type": "execute_result"
    }
   ],
   "source": [
    "# Only looking at the year each order was shipped (the year each sale was made)\n",
    "\n",
    "emp_orders = emp_orders[['EmployeeId','ShippedYear']].sort_values(\"EmployeeId\")\n",
    "emp_orders.dropna(inplace=True)\n",
    "emp_orders.head()"
   ]
  },
  {
   "cell_type": "code",
   "execution_count": 56,
   "metadata": {},
   "outputs": [
    {
     "data": {
      "text/plain": [
       "1    120\n",
       "2     93\n",
       "3    127\n",
       "4    151\n",
       "5     42\n",
       "6     65\n",
       "7     69\n",
       "8    100\n",
       "9     42\n",
       "Name: EmployeeId, dtype: int64"
      ]
     },
     "execution_count": 56,
     "metadata": {},
     "output_type": "execute_result"
    }
   ],
   "source": [
    "# Previewing how many sales were made per employee across all 3 years\n",
    "\n",
    "emp_orders.EmployeeId.value_counts().sort_index()"
   ]
  },
  {
   "cell_type": "code",
   "execution_count": 57,
   "metadata": {
    "scrolled": true
   },
   "outputs": [
    {
     "data": {
      "text/plain": [
       "2012.0    143\n",
       "2013.0    398\n",
       "2014.0    268\n",
       "Name: ShippedYear, dtype: int64"
      ]
     },
     "execution_count": 57,
     "metadata": {},
     "output_type": "execute_result"
    }
   ],
   "source": [
    "# Previewing how many sales there were per year\n",
    "\n",
    "emp_orders.ShippedYear.value_counts().sort_index()"
   ]
  },
  {
   "cell_type": "code",
   "execution_count": 58,
   "metadata": {},
   "outputs": [
    {
     "data": {
      "text/html": [
       "<div>\n",
       "<style scoped>\n",
       "    .dataframe tbody tr th:only-of-type {\n",
       "        vertical-align: middle;\n",
       "    }\n",
       "\n",
       "    .dataframe tbody tr th {\n",
       "        vertical-align: top;\n",
       "    }\n",
       "\n",
       "    .dataframe thead th {\n",
       "        text-align: right;\n",
       "    }\n",
       "</style>\n",
       "<table border=\"1\" class=\"dataframe\">\n",
       "  <thead>\n",
       "    <tr style=\"text-align: right;\">\n",
       "      <th></th>\n",
       "      <th>EmployeeId</th>\n",
       "      <th>ShippedYear</th>\n",
       "      <th>Sales</th>\n",
       "      <th>Age</th>\n",
       "    </tr>\n",
       "  </thead>\n",
       "  <tbody>\n",
       "    <tr>\n",
       "      <th>0</th>\n",
       "      <td>1</td>\n",
       "      <td>2012.0</td>\n",
       "      <td>23</td>\n",
       "      <td>1</td>\n",
       "    </tr>\n",
       "    <tr>\n",
       "      <th>1</th>\n",
       "      <td>1</td>\n",
       "      <td>2013.0</td>\n",
       "      <td>56</td>\n",
       "      <td>1</td>\n",
       "    </tr>\n",
       "    <tr>\n",
       "      <th>2</th>\n",
       "      <td>1</td>\n",
       "      <td>2014.0</td>\n",
       "      <td>41</td>\n",
       "      <td>1</td>\n",
       "    </tr>\n",
       "    <tr>\n",
       "      <th>3</th>\n",
       "      <td>2</td>\n",
       "      <td>2012.0</td>\n",
       "      <td>14</td>\n",
       "      <td>2</td>\n",
       "    </tr>\n",
       "    <tr>\n",
       "      <th>4</th>\n",
       "      <td>2</td>\n",
       "      <td>2013.0</td>\n",
       "      <td>41</td>\n",
       "      <td>2</td>\n",
       "    </tr>\n",
       "  </tbody>\n",
       "</table>\n",
       "</div>"
      ],
      "text/plain": [
       "   EmployeeId  ShippedYear  Sales  Age\n",
       "0           1       2012.0     23    1\n",
       "1           1       2013.0     56    1\n",
       "2           1       2014.0     41    1\n",
       "3           2       2012.0     14    2\n",
       "4           2       2013.0     41    2"
      ]
     },
     "execution_count": 58,
     "metadata": {},
     "output_type": "execute_result"
    }
   ],
   "source": [
    "emp_orders = emp_orders.groupby(['EmployeeId','ShippedYear']).size().reset_index()\n",
    "emp_orders[\"Age\"] = emp_orders[\"EmployeeId\"]\n",
    "emp_orders.columns = ['EmployeeId','ShippedYear','Sales','Age']\n",
    "emp_orders.head()"
   ]
  },
  {
   "cell_type": "code",
   "execution_count": 59,
   "metadata": {},
   "outputs": [],
   "source": [
    "# Adding employee age to table of orders by each employee per year\n",
    "\n",
    "for i in range(len(emp_orders)):\n",
    "    for k in emp_ages.Id.unique():\n",
    "        if emp_orders[\"EmployeeId\"][i] == k:\n",
    "            emp_orders[\"Age\"][i] = emp_ages[\"Age\"].loc[emp_ages.Id==k]"
   ]
  },
  {
   "cell_type": "code",
   "execution_count": 60,
   "metadata": {},
   "outputs": [
    {
     "data": {
      "text/html": [
       "<div>\n",
       "<style scoped>\n",
       "    .dataframe tbody tr th:only-of-type {\n",
       "        vertical-align: middle;\n",
       "    }\n",
       "\n",
       "    .dataframe tbody tr th {\n",
       "        vertical-align: top;\n",
       "    }\n",
       "\n",
       "    .dataframe thead th {\n",
       "        text-align: right;\n",
       "    }\n",
       "</style>\n",
       "<table border=\"1\" class=\"dataframe\">\n",
       "  <thead>\n",
       "    <tr style=\"text-align: right;\">\n",
       "      <th></th>\n",
       "      <th>EmployeeId</th>\n",
       "      <th>ShippedYear</th>\n",
       "      <th>Sales</th>\n",
       "      <th>Age</th>\n",
       "    </tr>\n",
       "  </thead>\n",
       "  <tbody>\n",
       "    <tr>\n",
       "      <th>0</th>\n",
       "      <td>1</td>\n",
       "      <td>2012.0</td>\n",
       "      <td>23</td>\n",
       "      <td>39</td>\n",
       "    </tr>\n",
       "    <tr>\n",
       "      <th>1</th>\n",
       "      <td>1</td>\n",
       "      <td>2013.0</td>\n",
       "      <td>56</td>\n",
       "      <td>39</td>\n",
       "    </tr>\n",
       "    <tr>\n",
       "      <th>2</th>\n",
       "      <td>1</td>\n",
       "      <td>2014.0</td>\n",
       "      <td>41</td>\n",
       "      <td>39</td>\n",
       "    </tr>\n",
       "    <tr>\n",
       "      <th>3</th>\n",
       "      <td>2</td>\n",
       "      <td>2012.0</td>\n",
       "      <td>14</td>\n",
       "      <td>35</td>\n",
       "    </tr>\n",
       "    <tr>\n",
       "      <th>4</th>\n",
       "      <td>2</td>\n",
       "      <td>2013.0</td>\n",
       "      <td>41</td>\n",
       "      <td>35</td>\n",
       "    </tr>\n",
       "  </tbody>\n",
       "</table>\n",
       "</div>"
      ],
      "text/plain": [
       "   EmployeeId  ShippedYear  Sales  Age\n",
       "0           1       2012.0     23   39\n",
       "1           1       2013.0     56   39\n",
       "2           1       2014.0     41   39\n",
       "3           2       2012.0     14   35\n",
       "4           2       2013.0     41   35"
      ]
     },
     "execution_count": 60,
     "metadata": {},
     "output_type": "execute_result"
    }
   ],
   "source": [
    "emp_orders.head()"
   ]
  },
  {
   "cell_type": "code",
   "execution_count": 61,
   "metadata": {},
   "outputs": [
    {
     "data": {
      "image/png": "[encoded data removed]",
      "text/plain": [
       "<Figure size 864x432 with 1 Axes>"
      ]
     },
     "metadata": {},
     "output_type": "display_data"
    }
   ],
   "source": [
    "# Sales per year per employee age\n",
    "\n",
    "plt.figure(figsize=(12,6))\n",
    "sns.barplot(x=\"Age\",y=\"Sales\",hue=\"ShippedYear\",data=emp_orders)\n",
    "plt.title(\"Sales per Year by Age\")\n",
    "plt.show()"
   ]
  },
  {
   "cell_type": "code",
   "execution_count": 62,
   "metadata": {},
   "outputs": [],
   "source": [
    "emp_orders = emp_orders.groupby(['EmployeeId'])['Sales'].mean().reset_index()"
   ]
  },
  {
   "cell_type": "code",
   "execution_count": 63,
   "metadata": {},
   "outputs": [
    {
     "data": {
      "text/html": [
       "<div>\n",
       "<style scoped>\n",
       "    .dataframe tbody tr th:only-of-type {\n",
       "        vertical-align: middle;\n",
       "    }\n",
       "\n",
       "    .dataframe tbody tr th {\n",
       "        vertical-align: top;\n",
       "    }\n",
       "\n",
       "    .dataframe thead th {\n",
       "        text-align: right;\n",
       "    }\n",
       "</style>\n",
       "<table border=\"1\" class=\"dataframe\">\n",
       "  <thead>\n",
       "    <tr style=\"text-align: right;\">\n",
       "      <th></th>\n",
       "      <th>Age</th>\n",
       "      <th>Sales</th>\n",
       "    </tr>\n",
       "  </thead>\n",
       "  <tbody>\n",
       "    <tr>\n",
       "      <th>0</th>\n",
       "      <td>21.0</td>\n",
       "      <td>14.000000</td>\n",
       "    </tr>\n",
       "    <tr>\n",
       "      <th>1</th>\n",
       "      <td>24.0</td>\n",
       "      <td>32.000000</td>\n",
       "    </tr>\n",
       "    <tr>\n",
       "      <th>2</th>\n",
       "      <td>27.0</td>\n",
       "      <td>23.000000</td>\n",
       "    </tr>\n",
       "    <tr>\n",
       "      <th>3</th>\n",
       "      <td>29.0</td>\n",
       "      <td>33.333333</td>\n",
       "    </tr>\n",
       "    <tr>\n",
       "      <th>4</th>\n",
       "      <td>32.0</td>\n",
       "      <td>14.000000</td>\n",
       "    </tr>\n",
       "    <tr>\n",
       "      <th>5</th>\n",
       "      <td>35.0</td>\n",
       "      <td>31.000000</td>\n",
       "    </tr>\n",
       "    <tr>\n",
       "      <th>6</th>\n",
       "      <td>39.0</td>\n",
       "      <td>40.000000</td>\n",
       "    </tr>\n",
       "    <tr>\n",
       "      <th>7</th>\n",
       "      <td>50.0</td>\n",
       "      <td>50.333333</td>\n",
       "    </tr>\n",
       "  </tbody>\n",
       "</table>\n",
       "</div>"
      ],
      "text/plain": [
       "    Age      Sales\n",
       "0  21.0  14.000000\n",
       "1  24.0  32.000000\n",
       "2  27.0  23.000000\n",
       "3  29.0  33.333333\n",
       "4  32.0  14.000000\n",
       "5  35.0  31.000000\n",
       "6  39.0  40.000000\n",
       "7  50.0  50.333333"
      ]
     },
     "execution_count": 63,
     "metadata": {},
     "output_type": "execute_result"
    }
   ],
   "source": [
    "# Calculating the average number of sales per year for each employee age\n",
    "\n",
    "empSalesPerAge = pd.concat([emp_ages.Age,emp_orders.Sales],axis=1)\n",
    "empSalesPerAge = empSalesPerAge.groupby(['Age'])['Sales'].mean().reset_index().sort_values(\"Age\")\n",
    "empSalesPerAge"
   ]
  },
  {
   "cell_type": "code",
   "execution_count": 64,
   "metadata": {},
   "outputs": [
    {
     "data": {
      "text/plain": [
       "array([21., 24., 27., 29., 32., 35., 39., 50.])"
      ]
     },
     "execution_count": 64,
     "metadata": {},
     "output_type": "execute_result"
    }
   ],
   "source": [
    "empSalesPerAge.Age.unique()"
   ]
  },
  {
   "cell_type": "code",
   "execution_count": 65,
   "metadata": {
    "scrolled": true
   },
   "outputs": [
    {
     "data": {
      "image/png": "[encoded data removed]",
      "text/plain": [
       "<Figure size 864x432 with 1 Axes>"
      ]
     },
     "metadata": {},
     "output_type": "display_data"
    }
   ],
   "source": [
    "# Average sales per year by employee age\n",
    "\n",
    "plt.figure(figsize=(12,6))\n",
    "\n",
    "for i in empSalesPerAge.Age.unique():\n",
    "    y = round(empSalesPerAge[empSalesPerAge.Age==i][\"Sales\"].mean(),2)\n",
    "    plt.bar(i, y)\n",
    "    plt.text(i, y*1.015, str(f'{y}'))\n",
    "    \n",
    "plt.title('Average Number of Sales Per Year By Employee Age')\n",
    "plt.xlabel('Employee Age')\n",
    "plt.ylabel('Average Number of Sales')\n",
    "plt.xticks(rotation=45)\n",
    "\n",
    "plt.show()"
   ]
  },
  {
   "cell_type": "markdown",
   "metadata": {},
   "source": [
    "#### Anova Test"
   ]
  },
  {
   "cell_type": "code",
   "execution_count": 66,
   "metadata": {},
   "outputs": [
    {
     "data": {
      "text/html": [
       "<div>\n",
       "<style scoped>\n",
       "    .dataframe tbody tr th:only-of-type {\n",
       "        vertical-align: middle;\n",
       "    }\n",
       "\n",
       "    .dataframe tbody tr th {\n",
       "        vertical-align: top;\n",
       "    }\n",
       "\n",
       "    .dataframe thead th {\n",
       "        text-align: right;\n",
       "    }\n",
       "</style>\n",
       "<table border=\"1\" class=\"dataframe\">\n",
       "  <thead>\n",
       "    <tr style=\"text-align: right;\">\n",
       "      <th></th>\n",
       "      <th>sum_sq</th>\n",
       "      <th>df</th>\n",
       "      <th>F</th>\n",
       "      <th>PR(&gt;F)</th>\n",
       "    </tr>\n",
       "  </thead>\n",
       "  <tbody>\n",
       "    <tr>\n",
       "      <th>Age</th>\n",
       "      <td>648.620903</td>\n",
       "      <td>1.0</td>\n",
       "      <td>8.819692</td>\n",
       "      <td>0.024964</td>\n",
       "    </tr>\n",
       "    <tr>\n",
       "      <th>Residual</th>\n",
       "      <td>441.254097</td>\n",
       "      <td>6.0</td>\n",
       "      <td>NaN</td>\n",
       "      <td>NaN</td>\n",
       "    </tr>\n",
       "  </tbody>\n",
       "</table>\n",
       "</div>"
      ],
      "text/plain": [
       "              sum_sq   df         F    PR(>F)\n",
       "Age       648.620903  1.0  8.819692  0.024964\n",
       "Residual  441.254097  6.0       NaN       NaN"
      ]
     },
     "execution_count": 66,
     "metadata": {},
     "output_type": "execute_result"
    }
   ],
   "source": [
    "formula = 'Sales ~ Age'\n",
    "lm3 = ols(formula, empSalesPerAge).fit()\n",
    "table3 = sm.stats.anova_lm(lm3, typ=2)\n",
    "table3"
   ]
  },
  {
   "cell_type": "code",
   "execution_count": 67,
   "metadata": {},
   "outputs": [
    {
     "data": {
      "text/html": [
       "<table class=\"simpletable\">\n",
       "<caption>OLS Regression Results</caption>\n",
       "<tr>\n",
       "  <th>Dep. Variable:</th>          <td>Sales</td>      <th>  R-squared:         </th> <td>   0.595</td>\n",
       "</tr>\n",
       "<tr>\n",
       "  <th>Model:</th>                   <td>OLS</td>       <th>  Adj. R-squared:    </th> <td>   0.528</td>\n",
       "</tr>\n",
       "<tr>\n",
       "  <th>Method:</th>             <td>Least Squares</td>  <th>  F-statistic:       </th> <td>   8.820</td>\n",
       "</tr>\n",
       "<tr>\n",
       "  <th>Date:</th>             <td>Mon, 22 Apr 2019</td> <th>  Prob (F-statistic):</th>  <td>0.0250</td> \n",
       "</tr>\n",
       "<tr>\n",
       "  <th>Time:</th>                 <td>17:42:57</td>     <th>  Log-Likelihood:    </th> <td> -27.392</td>\n",
       "</tr>\n",
       "<tr>\n",
       "  <th>No. Observations:</th>      <td>     8</td>      <th>  AIC:               </th> <td>   58.78</td>\n",
       "</tr>\n",
       "<tr>\n",
       "  <th>Df Residuals:</th>          <td>     6</td>      <th>  BIC:               </th> <td>   58.94</td>\n",
       "</tr>\n",
       "<tr>\n",
       "  <th>Df Model:</th>              <td>     1</td>      <th>                     </th>     <td> </td>   \n",
       "</tr>\n",
       "<tr>\n",
       "  <th>Covariance Type:</th>      <td>nonrobust</td>    <th>                     </th>     <td> </td>   \n",
       "</tr>\n",
       "</table>\n",
       "<table class=\"simpletable\">\n",
       "<tr>\n",
       "      <td></td>         <th>coef</th>     <th>std err</th>      <th>t</th>      <th>P>|t|</th>  <th>[0.025</th>    <th>0.975]</th>  \n",
       "</tr>\n",
       "<tr>\n",
       "  <th>Intercept</th> <td>   -3.6686</td> <td>   11.641</td> <td>   -0.315</td> <td> 0.763</td> <td>  -32.152</td> <td>   24.815</td>\n",
       "</tr>\n",
       "<tr>\n",
       "  <th>Age</th>       <td>    1.0390</td> <td>    0.350</td> <td>    2.970</td> <td> 0.025</td> <td>    0.183</td> <td>    1.895</td>\n",
       "</tr>\n",
       "</table>\n",
       "<table class=\"simpletable\">\n",
       "<tr>\n",
       "  <th>Omnibus:</th>       <td> 2.546</td> <th>  Durbin-Watson:     </th> <td>   2.624</td>\n",
       "</tr>\n",
       "<tr>\n",
       "  <th>Prob(Omnibus):</th> <td> 0.280</td> <th>  Jarque-Bera (JB):  </th> <td>   0.635</td>\n",
       "</tr>\n",
       "<tr>\n",
       "  <th>Skew:</th>          <td>-0.689</td> <th>  Prob(JB):          </th> <td>   0.728</td>\n",
       "</tr>\n",
       "<tr>\n",
       "  <th>Kurtosis:</th>      <td> 3.074</td> <th>  Cond. No.          </th> <td>    128.</td>\n",
       "</tr>\n",
       "</table><br/><br/>Warnings:<br/>[1] Standard Errors assume that the covariance matrix of the errors is correctly specified."
      ],
      "text/plain": [
       "<class 'statsmodels.iolib.summary.Summary'>\n",
       "\"\"\"\n",
       "                            OLS Regression Results                            \n",
       "==============================================================================\n",
       "Dep. Variable:                  Sales   R-squared:                       0.595\n",
       "Model:                            OLS   Adj. R-squared:                  0.528\n",
       "Method:                 Least Squares   F-statistic:                     8.820\n",
       "Date:                Mon, 22 Apr 2019   Prob (F-statistic):             0.0250\n",
       "Time:                        17:42:57   Log-Likelihood:                -27.392\n",
       "No. Observations:                   8   AIC:                             58.78\n",
       "Df Residuals:                       6   BIC:                             58.94\n",
       "Df Model:                           1                                         \n",
       "Covariance Type:            nonrobust                                         \n",
       "==============================================================================\n",
       "                 coef    std err          t      P>|t|      [0.025      0.975]\n",
       "------------------------------------------------------------------------------\n",
       "Intercept     -3.6686     11.641     -0.315      0.763     -32.152      24.815\n",
       "Age            1.0390      0.350      2.970      0.025       0.183       1.895\n",
       "==============================================================================\n",
       "Omnibus:                        2.546   Durbin-Watson:                   2.624\n",
       "Prob(Omnibus):                  0.280   Jarque-Bera (JB):                0.635\n",
       "Skew:                          -0.689   Prob(JB):                        0.728\n",
       "Kurtosis:                       3.074   Cond. No.                         128.\n",
       "==============================================================================\n",
       "\n",
       "Warnings:\n",
       "[1] Standard Errors assume that the covariance matrix of the errors is correctly specified.\n",
       "\"\"\""
      ]
     },
     "execution_count": 67,
     "metadata": {},
     "output_type": "execute_result"
    }
   ],
   "source": [
    "lm3.summary()"
   ]
  },
  {
   "cell_type": "markdown",
   "metadata": {},
   "source": [
    "**Interpreting the Results:** The ANOVA test returns a significant p-value, allowing us to reject the null hypothesis. The R-squared value for this test is moderately high, meaning it is reasonable to accept the alternative hypothesis that the age of the employee has a relationship with the number of sales.\n",
    "\n",
    "From the bar graph above, which broke down the average yearly sales by age, there does seems to be a general positive correlation between age and average annual sales. The 21-year-old  The 50-year-old employee is significantly older than most of the other employees, and he also averages significantly higher annual sales than his colleagues.\n",
    "\n",
    "It is noteworthy, however, that the 21-year-old started with just 5 total sales in 2012 and significantly increased his number of sales in the subsequent years. This could be due to him starting his new job with the company in 2012 and learning the role. Additionally, it is encouraging to see the progress he made over those three years, indicating the potential to continue growing in his role.\n",
    "\n",
    "2013 particularly seems to have been a great year for sales across all employees, as Northwind netted more sales that year than they did in 2012 or 2014. The number of sales fell from 2013 to 2014 for all employees except the 21-year-old."
   ]
  },
  {
   "cell_type": "markdown",
   "metadata": {},
   "source": [
    "***\n",
    "\n",
    "## Conclusion\n",
    "\n",
    "### Summary of Results\n",
    "\n",
    "To recap, the four questions I sought to answer were:\n",
    "1. Do discounts impact order volume?\n",
    "2. Do discounts increase revenue?\n",
    "3. Does customer location impact revenue?\n",
    "4. Is employee age related to productivity?\n",
    "\n",
    "From my analysis in regard to these questions, I made the following observations:\n",
    "* The presence of a discount makes a significant difference in the quantity of products ordered\n",
    "    * True for orders containing at least one discounted item, but especially true when comparing the quantity sold for one product when it was discount vs. not\n",
    "* The discount level does not have a significant impact on the order volume\n",
    "* The presence of a discount makes a significant positive impact on the revenue per order\n",
    "    * Average difference = &#36;307.44 more for discounted products\n",
    "* The average revenue from sales does appear to differ amongst the different regions \n",
    "    * Based on significant differences found between a limited number of regions\n",
    "    * Western Europe, North America, and Northern Europe spend the most per order\n",
    "    * North America has purchased about half as many orders as Western Europe\n",
    "    * Northern Europe has purchased about ⅕ as many orders as Western Europe\n",
    "* Age does appear to have a general positive correlation with average annual sales\n",
    "\n",
    "### Business Recommendations\n",
    "\n",
    "1. **Highlight discounts**: sales entice customers to buy more\n",
    "    * Seeing as how a higher level discount doesn't necessarily increase sales over lower level discounts, I suggest going with a minimal discount most times, for maximum profit<br><br>\n",
    "2. **Rotate the discounts**: keeping the same product discounted over time will likely lessen the appeal of that specific product's discount<br><br>\n",
    "3. **Require a purchase minimum for discounts**\n",
    "    * E.g. offer 5% off the total price for an order with at least 85 full-priced products\n",
    "    * E.g. offer 5% off the total price for an order that costs at least &#36;1,500<br><br>\n",
    "4. **Focus marketing energy and resources on certain regions**\n",
    "    * Keep advertising in Western Europe\n",
    "    * Give more attention to expand business North America and Northern Europe to increase sales in these high-profit regions<br><br>\n",
    "5. **Consider employee age**\n",
    "    * Invest in young employees, as they generally have the drive to improve quickly in their first few years of work\n",
    "    * Reward employees on reaching milestones for their work experience to retain them, as their performance seems to generally increase with age\n",
    "\n",
    "\n",
    "\n",
    "### Future Work\n",
    "\n",
    "Questions to consider for additional research:\n",
    "\n",
    "* Focus more on calculating gross profit\n",
    "    * Factor in cost of supplies, production, and shipping\n",
    "* Do more thorough research on company location\n",
    "    * E.g. How many countries per region? Trends amongst countries within a region?\n",
    "* Are customers from different regions/countries more likely to purchase certain products over others?\n",
    "* Assess employee productivity by length of time at company\n",
    "    * Current roadblock: The hire dates were set to years in the future, so I wasn't sure how to determine length of employment\n",
    "* Understand that research on employee age is limited due to small sample size\n",
    "* Do more research on other parties involved besides customers and employees\n",
    "    * E.g. Suppliers? Shippers?\n",
    "* Investigate what made 2013 such a profitable year compared to 2012 and 2014"
   ]
  },
  {
   "cell_type": "code",
   "execution_count": null,
   "metadata": {},
   "outputs": [],
   "source": []
  }
 ],
 "metadata": {
  "kernelspec": {
   "display_name": "learn-env",
   "language": "python",
   "name": "learn-env"
  },
  "language_info": {
   "codemirror_mode": {
    "name": "ipython",
    "version": 3
   },
   "file_extension": ".py",
   "mimetype": "text/x-python",
   "name": "python",
   "nbconvert_exporter": "python",
   "pygments_lexer": "ipython3",
   "version": "3.6.6"
  },
  "toc": {
   "base_numbering": 1,
   "nav_menu": {},
   "number_sections": true,
   "sideBar": true,
   "skip_h1_title": false,
   "title_cell": "Table of Contents",
   "title_sidebar": "Contents",
   "toc_cell": false,
   "toc_position": {},
   "toc_section_display": true,
   "toc_window_display": false
  },
  "toc-showtags": true,
  "varInspector": {
   "cols": {
    "lenName": 16,
    "lenType": 16,
    "lenVar": 40
   },
   "kernels_config": {
    "python": {
     "delete_cmd_postfix": "",
     "delete_cmd_prefix": "del ",
     "library": "var_list.py",
     "varRefreshCmd": "print(var_dic_list())"
    },
    "r": {
     "delete_cmd_postfix": ") ",
     "delete_cmd_prefix": "rm(",
     "library": "var_list.r",
     "varRefreshCmd": "cat(var_dic_list()) "
    }
   },
   "types_to_exclude": [
    "module",
    "function",
    "builtin_function_or_method",
    "instance",
    "_Feature"
   ],
   "window_display": false
  }
 },
 "nbformat": 4,
 "nbformat_minor": 2
}
